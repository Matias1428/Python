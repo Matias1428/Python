{
  "cells": [
    {
      "cell_type": "markdown",
      "metadata": {
        "id": "view-in-github",
        "colab_type": "text"
      },
      "source": [
        "<a href=\"https://colab.research.google.com/github/Matias1428/Python/blob/main/Challenge.ipynb\" target=\"_parent\"><img src=\"https://colab.research.google.com/assets/colab-badge.svg\" alt=\"Open In Colab\"/></a>"
      ]
    },
    {
      "cell_type": "markdown",
      "metadata": {
        "id": "VK_8LVfuLTC5"
      },
      "source": [
        "# Challenge: Personas desaparecidas"
      ]
    },
    {
      "cell_type": "code",
      "execution_count": null,
      "metadata": {
        "id": "9I7PcRORC2aT"
      },
      "outputs": [],
      "source": [
        "from google.colab import drive\n",
        "drive.mount('/content/drive')"
      ]
    },
    {
      "cell_type": "markdown",
      "metadata": {
        "id": "sncJiaehLTC_"
      },
      "source": [
        "EL siguiente dataset es un conjunto de datos acerca de personas desaperecidas en la república mexicana, del año 2010 al 2015."
      ]
    },
    {
      "cell_type": "markdown",
      "metadata": {
        "id": "pgE01D9bLTDA"
      },
      "source": [
        "### Diccionario de datos:\n",
        "\n",
        "- inegi: Clave dada por el INEGI a cada municipio. Primeros dos dígitos \n",
        "- corresponden al estado, los siguientes tres al municipio\n",
        "- ent: Parte de la clave de INEGI que corresponde a la entidad federativa.\n",
        "- nom_ent: Nombre oficial de la entidad federativa.\n",
        "- year: Año en el que se denunciaron las despariciones\n",
        "- sexo: Sexo de las personas desaparecidas\n",
        "- rango_edad: Rango de edades de las personas en el grupo en cuestión.\n",
        "- pob: Población total del municipio en ese año para ese grupo.\n",
        "- total: Total de personas deparecidas de ese grupo en ese año.\n",
        "- tdes: Tasa de desaparecidos en ese municipio en ese grupo\n",
        "\n",
        "Nota: Recuerda, cada observación corresponde a un grupo de personas desparecidas de un cierto sexo, en un cierto municipio y un cierto rango de edad."
      ]
    },
    {
      "cell_type": "code",
      "execution_count": null,
      "metadata": {
        "id": "-aemq2L_LTDB"
      },
      "outputs": [],
      "source": [
        "import numpy as np\n",
        "import pandas as pd\n",
        "import matplotlib.pyplot as plt\n",
        "# %matplotlib inline #Se utilizar para mostrar la gráfica inmediatamente después del código \n",
        "import seaborn as sns"
      ]
    },
    {
      "cell_type": "code",
      "execution_count": null,
      "metadata": {
        "colab": {
          "background_save": true
        },
        "id": "iHPCxK6ULTDC"
      },
      "outputs": [],
      "source": [
        "df = pd.read_csv(\"/rnped_limpia.csv\")\n",
        "df"
      ]
    },
    {
      "cell_type": "markdown",
      "metadata": {
        "id": "eOCMveMeLTDD"
      },
      "source": [
        "## Instrucciones\n",
        "Hay 3 preguntas clave que podemos responder con estos datos.\n",
        "\n",
        "1. ¿Cuántos desaparecidos hubo por municipio en...2011 (año más violento)?\n",
        "2. ¿Cuál es el porcentaje de desaparecidos por entidad en el año 2011?\n",
        "3. ¿Cuál es la tendencia de la tasa de desaparecidos en los años del 2010 al 2015 tomando en cuenta una línea por cada género?\n",
        "4. Muestranos un descubrimiento importante que hayas podido hallar en el dataset\n",
        "\n",
        "\n"
      ]
    },
    {
      "cell_type": "markdown",
      "metadata": {
        "id": "44NQMKAILTDD"
      },
      "source": [
        "#### Pregunta 1: ¿Cuántos desaparecidos hubo por municipio en...2011 (año más violento)?\n",
        "Esta primera gráfica será un scatter, pero que va a cumplir la función de las barras dado que vamos a graficar 2,456 municipios"
      ]
    },
    {
      "cell_type": "markdown",
      "metadata": {
        "id": "6wN5zOHFLTDE"
      },
      "source": [
        "<img src=\"https://storage.googleapis.com/campus-cvs/lectures/4.1%20DataVizChallenge2-1.png\" alt=\"scatter plot\" title=\"Total de desaparecidos por municipio\" width=\"850\" height=\"400\" />"
      ]
    },
    {
      "cell_type": "code",
      "execution_count": null,
      "metadata": {
        "id": "3Bp3-2-vUXVF"
      },
      "outputs": [],
      "source": [
        "#codigo aqui\n",
        "\n"
      ]
    },
    {
      "cell_type": "markdown",
      "metadata": {
        "id": "sZ4xeuFpLTDF"
      },
      "source": [
        "## Pregunta 2: ¿Cuál es la tendencia de la tasa de desaparecidos en los años del 2010 al 2015 tomando en cuenta una línea por cada género?\n",
        "Esta gráfica será una gráfica línea. Lo importante es conocer la diferencia en las tasas de desaparecidos por cada año y cada línea debe corresponder a un género."
      ]
    },
    {
      "cell_type": "markdown",
      "metadata": {
        "id": "jb7WMY-oLTDG"
      },
      "source": [
        "<img src=\"https://storage.googleapis.com/campus-cvs/lectures/4.1%20DataVizChallenge2-3.png\" alt=\"scatter plot\" title=\"Total de desaparecidos por municipio\" width=\"850\" height=\"400\" />"
      ]
    },
    {
      "cell_type": "code",
      "execution_count": null,
      "metadata": {
        "id": "20j8VwAPUdZX"
      },
      "outputs": [],
      "source": [
        "#codigo aqui\n",
        "\n"
      ]
    },
    {
      "cell_type": "markdown",
      "metadata": {
        "id": "xgZWrRq7LTDG"
      },
      "source": [
        "## Pregunta 3: ¿Cuál es la tasa de desaparecidos por género y rango de edad?\n",
        "Esta gráfica queda a elección del alumno. Como sugerencia, puede utilizar un mapa de calor."
      ]
    },
    {
      "cell_type": "markdown",
      "metadata": {
        "id": "Bnb3tfkRLTDG"
      },
      "source": [
        "<img src=\"https://storage.googleapis.com/campus-cvs/lectures/4.1%20DataVizChallenge3-3.png\" alt=\"scatter plot\" title=\"Total de desaparecidos por municipio\" width=\"850\" height=\"400\" />"
      ]
    },
    {
      "cell_type": "code",
      "execution_count": null,
      "metadata": {
        "id": "vqRQpvoHUeQx"
      },
      "outputs": [],
      "source": [
        "#codigo aqui\n",
        "\n",
        "\n"
      ]
    },
    {
      "cell_type": "markdown",
      "source": [
        "## Pregunta 4: Muestranos un descubrimiento importante que hayas podido hallar en el dataset"
      ],
      "metadata": {
        "id": "OdOxvNGhXYTa"
      }
    },
    {
      "cell_type": "code",
      "source": [
        "#codigo aqui"
      ],
      "metadata": {
        "id": "mRB9TODkXX_G"
      },
      "execution_count": null,
      "outputs": []
    }
  ],
  "metadata": {
    "colab": {
      "collapsed_sections": [],
      "name": "Challenge.ipynb",
      "provenance": [],
      "include_colab_link": true
    },
    "kernelspec": {
      "display_name": "Python 3",
      "language": "python",
      "name": "python3"
    },
    "language_info": {
      "codemirror_mode": {
        "name": "ipython",
        "version": 3
      },
      "file_extension": ".py",
      "mimetype": "text/x-python",
      "name": "python",
      "nbconvert_exporter": "python",
      "pygments_lexer": "ipython3",
      "version": "3.8.5"
    }
  },
  "nbformat": 4,
  "nbformat_minor": 0
}