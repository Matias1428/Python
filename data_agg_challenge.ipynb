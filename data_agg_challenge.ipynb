{
  "nbformat": 4,
  "nbformat_minor": 0,
  "metadata": {
    "colab": {
      "name": "data_agg_challenge.ipynb",
      "provenance": [],
      "collapsed_sections": [],
      "include_colab_link": true
    },
    "kernelspec": {
      "name": "python3",
      "display_name": "Python 3"
    },
    "language_info": {
      "name": "python"
    }
  },
  "cells": [
    {
      "cell_type": "markdown",
      "metadata": {
        "id": "view-in-github",
        "colab_type": "text"
      },
      "source": [
        "<a href=\"https://colab.research.google.com/github/Matias1428/Python/blob/main/data_agg_challenge.ipynb\" target=\"_parent\"><img src=\"https://colab.research.google.com/assets/colab-badge.svg\" alt=\"Open In Colab\"/></a>"
      ]
    },
    {
      "cell_type": "code",
      "execution_count": null,
      "metadata": {
        "id": "HP0GwD0HqRGG"
      },
      "outputs": [],
      "source": [
        "import pandas as pd\n",
        "import os\n",
        "PATH_DATOS = \"https://raw.githubusercontent.com/AlejandroPimentel/data_tutorial/main\"\n",
        "\n",
        "peliculas = pd.read_csv(\n",
        "    os.path.join(PATH_DATOS, \"titles_sample.csv\"), \n",
        "    names=[\"titulo\", \"fch_estreno\"], skiprows=1)\n",
        "actores = pd.read_csv(\n",
        "    os.path.join(PATH_DATOS, \"cast_sample.csv\"), \n",
        "    names=[\"titulo\", \"fch_estreno\", \"nombre\", \"tipo\", \"personaje\", \"n\"], \n",
        "    skiprows=1)"
      ]
    },
    {
      "cell_type": "code",
      "source": [
        "peliculas.head()"
      ],
      "metadata": {
        "id": "HOJ1T2dptewm"
      },
      "execution_count": null,
      "outputs": []
    },
    {
      "cell_type": "code",
      "source": [
        "actores.head()"
      ],
      "metadata": {
        "id": "1EvkJDm4tety"
      },
      "execution_count": null,
      "outputs": []
    },
    {
      "cell_type": "markdown",
      "source": [
        "### Usando `groupby()`, encuentra cuantas peliculas tenemos registradas para cada decada"
      ],
      "metadata": {
        "id": "WyMmC1grtlgz"
      }
    },
    {
      "cell_type": "code",
      "source": [
        ""
      ],
      "metadata": {
        "id": "t_bgrKZwteqh"
      },
      "execution_count": null,
      "outputs": []
    },
    {
      "cell_type": "code",
      "source": [
        ""
      ],
      "metadata": {
        "id": "_3gcnQeStent"
      },
      "execution_count": null,
      "outputs": []
    },
    {
      "cell_type": "code",
      "source": [
        ""
      ],
      "metadata": {
        "id": "F_B1_ALCtxNZ"
      },
      "execution_count": null,
      "outputs": []
    },
    {
      "cell_type": "markdown",
      "source": [
        "### Usando `groupby()`, encuentra cuantas peliculas de Hamlet se han hecho en cada decada"
      ],
      "metadata": {
        "id": "AiZ0j-lntz3x"
      }
    },
    {
      "cell_type": "code",
      "source": [
        ""
      ],
      "metadata": {
        "id": "mzOEx0jvt9CN"
      },
      "execution_count": null,
      "outputs": []
    },
    {
      "cell_type": "code",
      "source": [
        ""
      ],
      "metadata": {
        "id": "ORP1zYk4t8_Q"
      },
      "execution_count": null,
      "outputs": []
    },
    {
      "cell_type": "code",
      "source": [
        ""
      ],
      "metadata": {
        "id": "ixjsXHzKt88V"
      },
      "execution_count": null,
      "outputs": []
    },
    {
      "cell_type": "markdown",
      "source": [
        "### Para cada año de la decada de los 50s, cuantos roles principales (n=1) había para actrices y cuantos para actores"
      ],
      "metadata": {
        "id": "X_wqZcQft76X"
      }
    },
    {
      "cell_type": "code",
      "source": [
        ""
      ],
      "metadata": {
        "id": "Sfow95IZuKaX"
      },
      "execution_count": null,
      "outputs": []
    },
    {
      "cell_type": "code",
      "source": [
        ""
      ],
      "metadata": {
        "id": "pUQtJHFNuKRz"
      },
      "execution_count": null,
      "outputs": []
    },
    {
      "cell_type": "code",
      "source": [
        ""
      ],
      "metadata": {
        "id": "BybsArmMuKOG"
      },
      "execution_count": null,
      "outputs": []
    },
    {
      "cell_type": "markdown",
      "source": [
        "#### En los años 50s, cuantos roles había para actores y para actrices, para cada numero entre el 1 y el 5 en la columna n"
      ],
      "metadata": {
        "id": "Fhp191-guKxz"
      }
    },
    {
      "cell_type": "code",
      "source": [
        ""
      ],
      "metadata": {
        "id": "CdarUSgfucmR"
      },
      "execution_count": null,
      "outputs": []
    },
    {
      "cell_type": "code",
      "source": [
        ""
      ],
      "metadata": {
        "id": "6FIm59b7ucjf"
      },
      "execution_count": null,
      "outputs": []
    },
    {
      "cell_type": "code",
      "source": [
        ""
      ],
      "metadata": {
        "id": "W5X57EoIucga"
      },
      "execution_count": null,
      "outputs": []
    },
    {
      "cell_type": "markdown",
      "source": [
        "### Lista, en orden por fecha, cada una de las peliculas en las cuales Rajesh Khanna haya tenido mas de un rol"
      ],
      "metadata": {
        "id": "9S2_q8PHt73T"
      }
    },
    {
      "cell_type": "code",
      "source": [
        ""
      ],
      "metadata": {
        "id": "riXmbkQVugfp"
      },
      "execution_count": null,
      "outputs": []
    },
    {
      "cell_type": "code",
      "source": [
        ""
      ],
      "metadata": {
        "id": "qU5JFTGsugco"
      },
      "execution_count": null,
      "outputs": []
    },
    {
      "cell_type": "code",
      "source": [
        ""
      ],
      "metadata": {
        "id": "w6YWewetux_Y"
      },
      "execution_count": null,
      "outputs": []
    },
    {
      "cell_type": "markdown",
      "source": [
        "### Lista todos los actores con 5 o mas peliculas en las cuales tienen multiples roles"
      ],
      "metadata": {
        "id": "_u4Jcav7xaum"
      }
    },
    {
      "cell_type": "code",
      "source": [
        ""
      ],
      "metadata": {
        "id": "DzYyF0S7vyyG"
      },
      "execution_count": null,
      "outputs": []
    },
    {
      "cell_type": "code",
      "source": [
        ""
      ],
      "metadata": {
        "id": "dtqNl5mTx4hm"
      },
      "execution_count": null,
      "outputs": []
    },
    {
      "cell_type": "code",
      "source": [
        ""
      ],
      "metadata": {
        "id": "GKpT2RWVx4ed"
      },
      "execution_count": null,
      "outputs": []
    },
    {
      "cell_type": "markdown",
      "source": [
        "### Lista todos los personajes que Leo Gorcey haya actuado multiples veces"
      ],
      "metadata": {
        "id": "p9ZrzbYvzWiu"
      }
    },
    {
      "cell_type": "code",
      "source": [
        "\n"
      ],
      "metadata": {
        "id": "OICOiq5wzd8p"
      },
      "execution_count": null,
      "outputs": []
    },
    {
      "cell_type": "code",
      "source": [
        ""
      ],
      "metadata": {
        "id": "4tc5sN_Tzeb0"
      },
      "execution_count": null,
      "outputs": []
    },
    {
      "cell_type": "code",
      "source": [
        ""
      ],
      "metadata": {
        "id": "-48JwEm7zeYb"
      },
      "execution_count": null,
      "outputs": []
    },
    {
      "cell_type": "markdown",
      "source": [
        "### Lista todos los actores que hayan actuado multiples veces al menos 5 personajes"
      ],
      "metadata": {
        "id": "xDeSd1rAt70Y"
      }
    },
    {
      "cell_type": "code",
      "source": [
        ""
      ],
      "metadata": {
        "id": "LCFWrwTxx7Ur"
      },
      "execution_count": null,
      "outputs": []
    },
    {
      "cell_type": "code",
      "source": [
        "\n"
      ],
      "metadata": {
        "id": "SoLk_Wi7yRVC"
      },
      "execution_count": null,
      "outputs": []
    },
    {
      "cell_type": "code",
      "source": [
        ""
      ],
      "metadata": {
        "id": "i9t8AMrPyaUt"
      },
      "execution_count": null,
      "outputs": []
    }
  ]
}