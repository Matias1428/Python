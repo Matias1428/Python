{
  "nbformat": 4,
  "nbformat_minor": 0,
  "metadata": {
    "colab": {
      "name": "Copia de clases_challenge",
      "provenance": [],
      "collapsed_sections": [],
      "include_colab_link": true
    },
    "kernelspec": {
      "name": "python3",
      "display_name": "Python 3"
    },
    "language_info": {
      "name": "python"
    }
  },
  "cells": [
    {
      "cell_type": "markdown",
      "metadata": {
        "id": "view-in-github",
        "colab_type": "text"
      },
      "source": [
        "<a href=\"https://colab.research.google.com/github/Matias1428/Python/blob/main/Clase_challenge.ipynb\" target=\"_parent\"><img src=\"https://colab.research.google.com/assets/colab-badge.svg\" alt=\"Open In Colab\"/></a>"
      ]
    },
    {
      "cell_type": "markdown",
      "source": [
        "## 1) La posibilidad de elegir los movimientos para los jugadores usando input() y condicionales\n",
        "\n",
        "## 2) Toma la clase Pokemon mostrada en la clase y agrega lo siguiente\n",
        "### &nbsp;&nbsp; a) distintos ataques con distinto poder de ataque\n",
        "#### &nbsp;&nbsp;&nbsp;&nbsp; i) (opcional) agrega tipo tambien al movimiento\n",
        "#### &nbsp;&nbsp;&nbsp;&nbsp; ii) (opcional) implementa fortalezas y debilidades en los ataques\n"
      ],
      "metadata": {
        "id": "-aF3qx1yzTWk"
      }
    },
    {
      "cell_type": "markdown",
      "source": [
        ""
      ],
      "metadata": {
        "id": "RUezyOdti3yc"
      }
    },
    {
      "cell_type": "code",
      "source": [
        "class Pokemon:\n",
        "  dano_base = 10\n",
        "\n",
        "  def __init__(self, especie, stats, tipo, fortalezas, debilidades,ataques):\n",
        "    self.especie = especie\n",
        "    self.stats = stats\n",
        "    self.current_stats = self.stats.copy()\n",
        "    self.tipo = tipo\n",
        "    self.debilidades = debilidades\n",
        "    self.fortalezas = fortalezas\n",
        "    self.ataques = ataques\n",
        "\n",
        "  def centro_pokemon(self):\n",
        "    self.current_stats = self.stats\n",
        "\n",
        "  def pelea(self, rival):\n",
        "    # Imprimir información acerca de la pelea\n",
        "    print(\"-----Pelea pokemon-----\")\n",
        "    # Tu rival es furte o debil a ti? \n",
        "    if self.tipo in rival.fortalezas:\n",
        "      modificador_ataque = 1/2\n",
        "      print(f\"{rival.especie} es fuerte a los ataques de {self.especie} \\n\")\n",
        "    elif self.tipo in rival.debilidades:\n",
        "      modificador_ataque = 2\n",
        "      print(f\"{rival.especie} es debil a los ataques de {self.especie} \\n\")\n",
        "    else:\n",
        "      modificador_ataque = 1\n",
        "    \n",
        "    #eres fuerte o debil a tu rival?\n",
        "    if rival.tipo in self.fortalezas:\n",
        "      modificador_defensa = 1/2\n",
        "      print(f\"{self.especie} es fuerte a los ataques de {rival.especie} \\n\")\n",
        "    elif rival.tipo in self.debilidades:\n",
        "      modificador_defensa = 2\n",
        "      print(f\"{self.especie} es debil a los ataques de {rival.especie} \\n\")\n",
        "    else:\n",
        "      modificador_defensa = 1\n",
        "\n",
        "    # quien ataca primero\n",
        "    if self.current_stats[\"velocidad\"] >= rival.current_stats[\"velocidad\"]:\n",
        "      mi_turno = True\n",
        "    else:\n",
        "      mi_turno = False\n",
        "    \n",
        "    # combate por turnos\n",
        "    while (self.current_stats[\"hp\"] > 0) & (rival.current_stats[\"hp\"] > 0):\n",
        "      if mi_turno:\n",
        "        ataque_elegido=ataque_elegir(self);\n",
        "        #print(\"¿Que movimiento desea utilizar?\\n\")\n",
        "        print(self.especie + \"_utiliza \", ataque_elegido[0])\n",
        "\n",
        "        # atacando\n",
        "        dano = int(\n",
        "            self.dano_base * \n",
        "            (ataque_elegido[1] / rival.current_stats[\"defensa\"]) * \n",
        "            modificador_ataque) \n",
        "        rival.current_stats[\"hp\"] -= dano\n",
        "        print(f\"{self.especie} hizo {dano} de daño a {rival.especie}\")\n",
        "        print(f\"A {rival.especie} le quedan {rival.current_stats['hp']} puntos de vida\")\n",
        "      else:\n",
        "        # defendiendo\n",
        "        dano = int(\n",
        "            rival.dano_base *\n",
        "            (rival.current_stats[\"ataque\"] / self.current_stats[\"defensa\"]) * \n",
        "            modificador_defensa)\n",
        "        self.current_stats[\"hp\"] -= dano\n",
        "        print(f\"{rival.especie} hizo {dano} de daño a {self.especie}\")\n",
        "        print(f\"A {self.especie} le quedan {self.current_stats['hp']} puntos de vida\")\n",
        "      mi_turno = not mi_turno\n",
        "    else:\n",
        "      if self.current_stats[\"hp\"] <= 0:\n",
        "        print(f'{rival.especie} ha ganado la pelea \\n')\n",
        "      else:\n",
        "        print(f'{self.especie} ha ganado la pelea \\n')\n",
        "\n"
      ],
      "metadata": {
        "id": "FPq5h3LeMaPh"
      },
      "execution_count": null,
      "outputs": []
    },
    {
      "cell_type": "code",
      "source": [
        "squirtle = Pokemon(\n",
        "    especie = \"Squirtle\",\n",
        "    stats = {\n",
        "        \"velocidad\": 43,\n",
        "        \"hp\": 44,\n",
        "        \"ataque\": 48,\n",
        "        \"defensa\": 65},\n",
        "    tipo = \"agua\",\n",
        "    fortalezas = [\"fuego\"],\n",
        "    debilidades = [\"planta\"],\n",
        "    ataques = {\"1\":[\"Cascada\",16,'Agua'],\n",
        "               \"2\":[\"Pistola_Agua\", 5,'Agua'],\n",
        "               \"3\":[\"Burbuja\", 12,'Agua'],\n",
        "               \"4\":[\"Surf\", 65,'Agua']})\n",
        "\n",
        "charmander = Pokemon(\n",
        "    especie = \"Charmander\",\n",
        "    stats = {\n",
        "        \"velocidad\": 65,\n",
        "        \"hp\": 39,\n",
        "        \"ataque\": 52,\n",
        "        \"defensa\": 43},\n",
        "    tipo = \"fuego\",\n",
        "    fortalezas = [\"planta\"],\n",
        "    debilidades = [\"agua\"],\n",
        "    ataques = {\"1\":['Colmillo_Ígneo', 12,'Fuego'],\n",
        "               \"2\":['Giro_Fuego', 14,'Fuego'],\n",
        "               \"3\":['Calcinación', 29,'Fuego'],\n",
        "               \"4\":['Ascuas', 10,'Fuego']})\n",
        "\n",
        "bulbasaur = Pokemon(\n",
        "    especie = \"Bulbasaur\",\n",
        "    stats = {\n",
        "        \"velocidad\": 45,\n",
        "        \"hp\": 45,\n",
        "        \"ataque\": 49,\n",
        "        \"defensa\": 49},\n",
        "    tipo = \"planta\",\n",
        "    fortalezas = [\"agua\"],\n",
        "    debilidades = [\"fuego\"],\n",
        "    ataques = {\"1\":['Colmillo_Ígneo', 12,'Fuego'],\n",
        "               \"2\":['Giro_Fuego', 14,'Fuego'],\n",
        "               \"3\":['Calcinación', 29,'Fuego'],\n",
        "               \"4\":['Ascuas', 10,'Fuego']})\n"
      ],
      "metadata": {
        "id": "F53Ah1TSzhX1"
      },
      "execution_count": null,
      "outputs": []
    },
    {
      "cell_type": "code",
      "source": [
        "\n",
        "def pokemon_Elegir(pokemon_elegido):\n",
        "  if pokemon_elegido=='squirtle' or pokemon_elegido=='1':\n",
        "      print('Has elegido a  squirtle\\n')\n",
        "      squirtle.pelea(charmander)\n",
        "      squirtle.centro_pokemon()\n",
        "      charmander.centro_pokemon()\n",
        "\n",
        "  if pokemon_elegido=='charmander'  or pokemon_elegido=='2':\n",
        "      print('Has elegido a charmander\\n')\n",
        "      charmander.pelea(bulbasaur)\n",
        "      bulbasaur.centro_pokemon()\n",
        "      charmander.centro_pokemon()\n",
        "\n",
        "  if pokemon_elegido=='bulbasaur'  or pokemon_elegido=='3':\n",
        "      print('Has elegido a bulbasaur\\n')\n",
        "      bulbasaur.pelea(squirtle)\n",
        "      bulbasaur.centro_pokemon()\n",
        "      squirtle.centro_pokemon()\n",
        "  #if pokemon_elegido!='bulbasaur'  or pokemon_elegido!='3' or pokemon_elegido!='charmander'  or pokemon_elegido!='2' or pokemon_elegido!='squirtle' or pokemon_elegido!='1':\n",
        "    # print('Pokemon no disponible')\n",
        "    # print(\"1.-squirtle\\n2.-charmander \\n3.-bulbasaur\")\n",
        "     #pokemon_elegido= input()\n",
        "     #pokemon_Elegir(pokemon_elegido)\n",
        "\n",
        "def ataque_elegir(self):\n",
        "  print(\"Ataques disponibles\\n\")\n",
        "  print(\"1.-\"+self.ataques[\"1\"][0]+\"\\t 2.-\"+ self.ataques[\"2\"][0]+\"\\n 3.-\"+ self.ataques[\"3\"][0]+\"\\t 4.-\"+ self.ataques[\"4\"][0])\n",
        "  ataque_recibido=input('¿Que ataque deseas utilizar?\\n')\n",
        "  if ataque_recibido==\"1\":    \n",
        "    ataque_elegido=self.ataques['1']\n",
        "    \n",
        "  if ataque_recibido==\"2\":\n",
        "    ataque_elegido=self.ataques['2']\n",
        "\n",
        "  if ataque_recibido==\"3\":\n",
        "    ataque_elegido=self.ataques['3']\n",
        "\n",
        "  if ataque_recibido==\"4\":\n",
        "    ataque_elegido=self.ataques['4']\n",
        "    \n",
        "  return ataque_elegido\n"
      ],
      "metadata": {
        "id": "3N-Vr_2czhRg"
      },
      "execution_count": null,
      "outputs": []
    },
    {
      "cell_type": "markdown",
      "source": [
        ""
      ],
      "metadata": {
        "id": "SyrfI3rMVyRE"
      }
    },
    {
      "cell_type": "code",
      "source": [
        "print(\"Te han desafiado a una pelea \\n\")\n",
        "print(\"¿Que pokemon desea utilizar? \\n\")\n",
        "print(\"1.-squirtle\\n2.-charmander \\n3.-bulbasaur\")\n",
        "pokemon_elegido= input()\n",
        "pokemon_Elegir(pokemon_elegido)\n",
        "#squirtle.pelea(charmander)\n",
        "#squirtle.centro_pokemon()\n",
        "#charmander.centro_pokemon()"
      ],
      "metadata": {
        "id": "Hl3l_ooPzhUU",
        "colab": {
          "base_uri": "https://localhost:8080/"
        },
        "outputId": "e241cdc5-703b-4fb0-d876-94bbee2a8a52"
      },
      "execution_count": null,
      "outputs": [
        {
          "output_type": "stream",
          "name": "stdout",
          "text": [
            "Te han desafiado a una pelea \n",
            "\n",
            "¿Que pokemon desea utilizar? \n",
            "\n",
            "1.-squirtle\n",
            "2.-charmander \n",
            "3.-bulbasaur\n",
            "1\n",
            "Has elegido a  squirtle\n",
            "\n",
            "Charmander es debil a los ataques de Squirtle \n",
            "\n",
            "Squirtle es fuerte a los ataques de Charmander \n",
            "\n",
            "Charmander hizo 4 de daño a Squirtle\n",
            "A Squirtle le quedan 40 puntos de vida\n",
            "Ataques disponibles\n",
            "\n",
            "1.-Cascada\t 2.-Pistola_Agua\n",
            " 3.-Burbuja\t 4.-Surf\n",
            "¿Que ataque deseas utilizar?\n",
            "1\n",
            "Squirtle_utiliza  Cascada\n",
            "Squirtle hizo 7 de daño a Charmander\n",
            "A Charmander le quedan 32 puntos de vida\n",
            "Charmander hizo 4 de daño a Squirtle\n",
            "A Squirtle le quedan 36 puntos de vida\n",
            "Ataques disponibles\n",
            "\n",
            "1.-Cascada\t 2.-Pistola_Agua\n",
            " 3.-Burbuja\t 4.-Surf\n",
            "¿Que ataque deseas utilizar?\n",
            "2\n",
            "Squirtle_utiliza  Pistola_Agua\n",
            "Squirtle hizo 2 de daño a Charmander\n",
            "A Charmander le quedan 30 puntos de vida\n",
            "Charmander hizo 4 de daño a Squirtle\n",
            "A Squirtle le quedan 32 puntos de vida\n",
            "Ataques disponibles\n",
            "\n",
            "1.-Cascada\t 2.-Pistola_Agua\n",
            " 3.-Burbuja\t 4.-Surf\n",
            "¿Que ataque deseas utilizar?\n",
            "4\n",
            "Squirtle_utiliza  Surf\n",
            "Squirtle hizo 30 de daño a Charmander\n",
            "A Charmander le quedan 0 puntos de vida\n",
            "Squirtle ha ganado la pelea \n",
            "\n"
          ]
        }
      ]
    }
  ]
}