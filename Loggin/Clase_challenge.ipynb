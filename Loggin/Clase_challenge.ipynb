{
  "cells": [
    {
      "cell_type": "markdown",
      "metadata": {
        "colab_type": "text",
        "id": "view-in-github"
      },
      "source": [
        "<a href=\"https://colab.research.google.com/github/Matias1428/Python/blob/main/Clase_challenge.ipynb\" target=\"_parent\"><img src=\"https://colab.research.google.com/assets/colab-badge.svg\" alt=\"Open In Colab\"/></a>"
      ]
    },
    {
      "cell_type": "markdown",
      "metadata": {
        "id": "-aF3qx1yzTWk"
      },
      "source": [
        "## 1) La posibilidad de elegir los movimientos para los jugadores usando input() y condicionales\n",
        "\n",
        "## 2) Toma la clase Pokemon mostrada en la clase y agrega lo siguiente\n",
        "### &nbsp;&nbsp; a) distintos ataques con distinto poder de ataque\n",
        "#### &nbsp;&nbsp;&nbsp;&nbsp; i) (opcional) agrega tipo tambien al movimiento\n",
        "#### &nbsp;&nbsp;&nbsp;&nbsp; ii) (opcional) implementa fortalezas y debilidades en los ataques\n"
      ]
    },
    {
      "cell_type": "markdown",
      "metadata": {
        "id": "RUezyOdti3yc"
      },
      "source": []
    },
    {
      "cell_type": "code",
      "execution_count": 8,
      "metadata": {
        "id": "FPq5h3LeMaPh"
      },
      "outputs": [],
      "source": [
        "class Pokemon:\n",
        "  dano_base = 10\n",
        "  pokemons=[]\n",
        "\n",
        "  def __init__(self, especie, stats, tipo, fortalezas, debilidades,ataques):\n",
        "    self.especie = especie\n",
        "    self.stats = stats\n",
        "    self.current_stats = self.stats.copy()\n",
        "    self.tipo = tipo\n",
        "    self.debilidades = debilidades\n",
        "    self.fortalezas = fortalezas\n",
        "    self.ataques = ataques\n",
        "    Pokemon.pokemons.append(self)\n",
        "\n",
        "  def centro_pokemon(self):\n",
        "    self.current_stats = self.stats\n",
        "\n",
        "  def pelea(self, rival):\n",
        "    # Imprimir información acerca de la pelea\n",
        "    print(\"-----Pelea pokemon-----\")\n",
        "    # Tu rival es furte o debil a ti? \n",
        "    if self.tipo in rival.fortalezas:\n",
        "      modificador_ataque = 1/2\n",
        "      print(f\"{rival.especie} es fuerte a los ataques de {self.especie} \\n\")\n",
        "    elif self.tipo in rival.debilidades:\n",
        "      modificador_ataque = 2\n",
        "      print(f\"{rival.especie} es debil a los ataques de {self.especie} \\n\")\n",
        "    else:\n",
        "      modificador_ataque = 1\n",
        "    \n",
        "    #eres fuerte o debil a tu rival?\n",
        "    if rival.tipo in self.fortalezas:\n",
        "      modificador_defensa = 1/2\n",
        "      print(f\"{self.especie} es fuerte a los ataques de {rival.especie} \\n\")\n",
        "    elif rival.tipo in self.debilidades:\n",
        "      modificador_defensa = 2\n",
        "      print(f\"{self.especie} es debil a los ataques de {rival.especie} \\n\")\n",
        "    else:\n",
        "      modificador_defensa = 1\n",
        "\n",
        "    # quien ataca primero\n",
        "    if self.current_stats[\"velocidad\"] >= rival.current_stats[\"velocidad\"]:\n",
        "      mi_turno = True\n",
        "    else:\n",
        "      mi_turno = False\n",
        "    \n",
        "    # combate por turnos\n",
        "    while (self.current_stats[\"hp\"] > 0) & (rival.current_stats[\"hp\"] > 0):\n",
        "      if mi_turno:\n",
        "        ataque_elegido=ataque_elegir(self);\n",
        "        #print(\"¿Que movimiento desea utilizar?\\n\")\n",
        "        print(self.especie + \"_utiliza \", ataque_elegido[0])\n",
        "\n",
        "        # atacando\n",
        "        dano = int(\n",
        "            self.dano_base * \n",
        "            (ataque_elegido[1] / rival.current_stats[\"defensa\"]) * \n",
        "            modificador_ataque) \n",
        "        rival.current_stats[\"hp\"] -= dano\n",
        "        print(f\"{self.especie} hizo {dano} de daño a {rival.especie}\")\n",
        "        print(f\"A {rival.especie} le quedan {rival.current_stats['hp']} puntos de vida\")\n",
        "      else:\n",
        "        # defendiendo\n",
        "        dano = int(\n",
        "            rival.dano_base *\n",
        "            (rival.current_stats[\"ataque\"] / self.current_stats[\"defensa\"]) * \n",
        "            modificador_defensa)\n",
        "        self.current_stats[\"hp\"] -= dano\n",
        "        print(f\"{rival.especie} hizo {dano} de daño a {self.especie}\")\n",
        "        print(f\"A {self.especie} le quedan {self.current_stats['hp']} puntos de vida\")\n",
        "      mi_turno = not mi_turno\n",
        "    else:\n",
        "      if self.current_stats[\"hp\"] <= 0:\n",
        "        print(f'{rival.especie} ha ganado la pelea \\n')\n",
        "      else:\n",
        "        print(f'{self.especie} ha ganado la pelea \\n')\n",
        "\n"
      ]
    },
    {
      "cell_type": "code",
      "execution_count": 9,
      "metadata": {
        "id": "F53Ah1TSzhX1"
      },
      "outputs": [],
      "source": [
        "squirtle = Pokemon(\n",
        "    especie = \"Squirtle\",\n",
        "    stats = {\n",
        "        \"velocidad\": 43,\n",
        "        \"hp\": 44,\n",
        "        \"ataque\": 48,\n",
        "        \"defensa\": 65},\n",
        "    tipo = \"agua\",\n",
        "    fortalezas = [\"fuego\"],\n",
        "    debilidades = [\"planta\"],\n",
        "    ataques = {\"1\":[\"Cascada\",16,'Agua'],\n",
        "               \"2\":[\"Pistola_Agua\", 5,'Agua'],\n",
        "               \"3\":[\"Burbuja\", 12,'Agua'],\n",
        "               \"4\":[\"Surf\", 65,'Agua']})\n",
        "\n",
        "charmander = Pokemon(\n",
        "    especie = \"Charmander\",\n",
        "    stats = {\n",
        "        \"velocidad\": 65,\n",
        "        \"hp\": 39,\n",
        "        \"ataque\": 52,\n",
        "        \"defensa\": 43},\n",
        "    tipo = \"fuego\",\n",
        "    fortalezas = [\"planta\"],\n",
        "    debilidades = [\"agua\"],\n",
        "    ataques = {\"1\":['Colmillo_Ígneo', 12,'Fuego'],\n",
        "               \"2\":['Giro_Fuego', 14,'Fuego'],\n",
        "               \"3\":['Calcinación', 29,'Fuego'],\n",
        "               \"4\":['Ascuas', 10,'Fuego']})\n",
        "\n",
        "bulbasaur = Pokemon(\n",
        "    especie = \"Bulbasaur\",\n",
        "    stats = {\n",
        "        \"velocidad\": 45,\n",
        "        \"hp\": 45,\n",
        "        \"ataque\": 49,\n",
        "        \"defensa\": 49},\n",
        "    tipo = \"planta\",\n",
        "    fortalezas = [\"agua\"],\n",
        "    debilidades = [\"fuego\"],\n",
        "    ataques = {\"1\":['Colmillo_Ígneo', 12,'Fuego'],\n",
        "               \"2\":['Giro_Fuego', 14,'Fuego'],\n",
        "               \"3\":['Calcinación', 29,'Fuego'],\n",
        "               \"4\":['Ascuas', 10,'Fuego']})\n"
      ]
    },
    {
      "cell_type": "code",
      "execution_count": 10,
      "metadata": {
        "id": "3N-Vr_2czhRg"
      },
      "outputs": [],
      "source": [
        "\n",
        "def pokemon_Elegir(pokemon_elegido):\n",
        "  if pokemon_elegido=='squirtle' or pokemon_elegido=='1':\n",
        "      print('Has elegido a  squirtle\\n')\n",
        "      squirtle.pelea(charmander)\n",
        "      squirtle.centro_pokemon()\n",
        "      charmander.centro_pokemon()\n",
        "\n",
        "  if pokemon_elegido=='charmander'  or pokemon_elegido=='2':\n",
        "      print('Has elegido a charmander\\n')\n",
        "      charmander.pelea(bulbasaur)\n",
        "      bulbasaur.centro_pokemon()\n",
        "      charmander.centro_pokemon()\n",
        "\n",
        "  if pokemon_elegido=='bulbasaur'  or pokemon_elegido=='3':\n",
        "      print('Has elegido a bulbasaur\\n')\n",
        "      bulbasaur.pelea(squirtle)\n",
        "      bulbasaur.centro_pokemon()\n",
        "      squirtle.centro_pokemon()\n",
        "  #if pokemon_elegido!='bulbasaur'  or pokemon_elegido!='3' or pokemon_elegido!='charmander'  or pokemon_elegido!='2' or pokemon_elegido!='squirtle' or pokemon_elegido!='1':\n",
        "    # print('Pokemon no disponible')\n",
        "    # print(\"1.-squirtle\\n2.-charmander \\n3.-bulbasaur\")\n",
        "     #pokemon_elegido= input()\n",
        "     #pokemon_Elegir(pokemon_elegido)\n",
        "\n",
        "def ataque_elegir(self):\n",
        "  print(\"Ataques disponibles\\n\")\n",
        "  print(\"1.-\"+self.ataques[\"1\"][0]+\"\\t 2.-\"+ self.ataques[\"2\"][0]+\"\\n 3.-\"+ self.ataques[\"3\"][0]+\"\\t 4.-\"+ self.ataques[\"4\"][0])\n",
        "  ataque_recibido=input('¿Que ataque deseas utilizar?\\n')\n",
        "  if ataque_recibido==\"1\":    \n",
        "    ataque_elegido=self.ataques['1']\n",
        "    \n",
        "  if ataque_recibido==\"2\":\n",
        "    ataque_elegido=self.ataques['2']\n",
        "\n",
        "  if ataque_recibido==\"3\":\n",
        "    ataque_elegido=self.ataques['3']\n",
        "\n",
        "  if ataque_recibido==\"4\":\n",
        "    ataque_elegido=self.ataques['4']\n",
        "    \n",
        "  return ataque_elegido\n"
      ]
    },
    {
      "cell_type": "markdown",
      "metadata": {
        "id": "SyrfI3rMVyRE"
      },
      "source": []
    },
    {
      "cell_type": "code",
      "execution_count": 11,
      "metadata": {
        "colab": {
          "base_uri": "https://localhost:8080/"
        },
        "id": "Hl3l_ooPzhUU",
        "outputId": "e241cdc5-703b-4fb0-d876-94bbee2a8a52"
      },
      "outputs": [
        {
          "name": "stdout",
          "output_type": "stream",
          "text": [
            "[<__main__.Pokemon object at 0x0000020BF50FF370>, <__main__.Pokemon object at 0x0000020BF50FF400>, <__main__.Pokemon object at 0x0000020BF50FF430>]\n",
            "Te han desafiado a una pelea \n",
            "\n",
            "¿Que pokemon desea utilizar? \n",
            "\n",
            "1.-squirtle\n",
            "2.-charmander \n",
            "3.-bulbasaur\n"
          ]
        },
        {
          "ename": "KeyboardInterrupt",
          "evalue": "Interrupted by user",
          "output_type": "error",
          "traceback": [
            "\u001b[1;31m---------------------------------------------------------------------------\u001b[0m",
            "\u001b[1;31mKeyboardInterrupt\u001b[0m                         Traceback (most recent call last)",
            "\u001b[1;32m~\\AppData\\Local\\Temp/ipykernel_17584/1813629962.py\u001b[0m in \u001b[0;36m<module>\u001b[1;34m\u001b[0m\n\u001b[0;32m      3\u001b[0m \u001b[0mprint\u001b[0m\u001b[1;33m(\u001b[0m\u001b[1;34m\"¿Que pokemon desea utilizar? \\n\"\u001b[0m\u001b[1;33m)\u001b[0m\u001b[1;33m\u001b[0m\u001b[1;33m\u001b[0m\u001b[0m\n\u001b[0;32m      4\u001b[0m \u001b[0mprint\u001b[0m\u001b[1;33m(\u001b[0m\u001b[1;34m\"1.-squirtle\\n2.-charmander \\n3.-bulbasaur\"\u001b[0m\u001b[1;33m)\u001b[0m\u001b[1;33m\u001b[0m\u001b[1;33m\u001b[0m\u001b[0m\n\u001b[1;32m----> 5\u001b[1;33m \u001b[0mpokemon_elegido\u001b[0m\u001b[1;33m=\u001b[0m \u001b[0minput\u001b[0m\u001b[1;33m(\u001b[0m\u001b[1;33m)\u001b[0m\u001b[1;33m\u001b[0m\u001b[1;33m\u001b[0m\u001b[0m\n\u001b[0m\u001b[0;32m      6\u001b[0m \u001b[0mpokemon_Elegir\u001b[0m\u001b[1;33m(\u001b[0m\u001b[0mpokemon_elegido\u001b[0m\u001b[1;33m)\u001b[0m\u001b[1;33m\u001b[0m\u001b[1;33m\u001b[0m\u001b[0m\n\u001b[0;32m      7\u001b[0m \u001b[1;31m#squirtle.pelea(charmander)\u001b[0m\u001b[1;33m\u001b[0m\u001b[1;33m\u001b[0m\u001b[0m\n",
            "\u001b[1;32m~\\anaconda3\\lib\\site-packages\\ipykernel\\kernelbase.py\u001b[0m in \u001b[0;36mraw_input\u001b[1;34m(self, prompt)\u001b[0m\n\u001b[0;32m   1004\u001b[0m                 \u001b[1;34m\"raw_input was called, but this frontend does not support input requests.\"\u001b[0m\u001b[1;33m\u001b[0m\u001b[1;33m\u001b[0m\u001b[0m\n\u001b[0;32m   1005\u001b[0m             )\n\u001b[1;32m-> 1006\u001b[1;33m         return self._input_request(\n\u001b[0m\u001b[0;32m   1007\u001b[0m             \u001b[0mstr\u001b[0m\u001b[1;33m(\u001b[0m\u001b[0mprompt\u001b[0m\u001b[1;33m)\u001b[0m\u001b[1;33m,\u001b[0m\u001b[1;33m\u001b[0m\u001b[1;33m\u001b[0m\u001b[0m\n\u001b[0;32m   1008\u001b[0m             \u001b[0mself\u001b[0m\u001b[1;33m.\u001b[0m\u001b[0m_parent_ident\u001b[0m\u001b[1;33m[\u001b[0m\u001b[1;34m\"shell\"\u001b[0m\u001b[1;33m]\u001b[0m\u001b[1;33m,\u001b[0m\u001b[1;33m\u001b[0m\u001b[1;33m\u001b[0m\u001b[0m\n",
            "\u001b[1;32m~\\anaconda3\\lib\\site-packages\\ipykernel\\kernelbase.py\u001b[0m in \u001b[0;36m_input_request\u001b[1;34m(self, prompt, ident, parent, password)\u001b[0m\n\u001b[0;32m   1049\u001b[0m             \u001b[1;32mexcept\u001b[0m \u001b[0mKeyboardInterrupt\u001b[0m\u001b[1;33m:\u001b[0m\u001b[1;33m\u001b[0m\u001b[1;33m\u001b[0m\u001b[0m\n\u001b[0;32m   1050\u001b[0m                 \u001b[1;31m# re-raise KeyboardInterrupt, to truncate traceback\u001b[0m\u001b[1;33m\u001b[0m\u001b[1;33m\u001b[0m\u001b[0m\n\u001b[1;32m-> 1051\u001b[1;33m                 \u001b[1;32mraise\u001b[0m \u001b[0mKeyboardInterrupt\u001b[0m\u001b[1;33m(\u001b[0m\u001b[1;34m\"Interrupted by user\"\u001b[0m\u001b[1;33m)\u001b[0m \u001b[1;32mfrom\u001b[0m \u001b[1;32mNone\u001b[0m\u001b[1;33m\u001b[0m\u001b[1;33m\u001b[0m\u001b[0m\n\u001b[0m\u001b[0;32m   1052\u001b[0m             \u001b[1;32mexcept\u001b[0m \u001b[0mException\u001b[0m\u001b[1;33m:\u001b[0m\u001b[1;33m\u001b[0m\u001b[1;33m\u001b[0m\u001b[0m\n\u001b[0;32m   1053\u001b[0m                 \u001b[0mself\u001b[0m\u001b[1;33m.\u001b[0m\u001b[0mlog\u001b[0m\u001b[1;33m.\u001b[0m\u001b[0mwarning\u001b[0m\u001b[1;33m(\u001b[0m\u001b[1;34m\"Invalid Message:\"\u001b[0m\u001b[1;33m,\u001b[0m \u001b[0mexc_info\u001b[0m\u001b[1;33m=\u001b[0m\u001b[1;32mTrue\u001b[0m\u001b[1;33m)\u001b[0m\u001b[1;33m\u001b[0m\u001b[1;33m\u001b[0m\u001b[0m\n",
            "\u001b[1;31mKeyboardInterrupt\u001b[0m: Interrupted by user"
          ]
        }
      ],
      "source": [
        "print(Pokemon.pokemons)\n",
        "print(\"Te han desafiado a una pelea \\n\")\n",
        "print(\"¿Que pokemon desea utilizar? \\n\")\n",
        "print(\"1.-squirtle\\n2.-charmander \\n3.-bulbasaur\")\n",
        "pokemon_elegido= input()\n",
        "pokemon_Elegir(pokemon_elegido)\n",
        "#squirtle.pelea(charmander)\n",
        "#squirtle.centro_pokemon()\n",
        "#charmander.centro_pokemon()\n"
      ]
    }
  ],
  "metadata": {
    "colab": {
      "collapsed_sections": [],
      "include_colab_link": true,
      "name": "Copia de clases_challenge",
      "provenance": []
    },
    "kernelspec": {
      "display_name": "Python 3",
      "name": "python3"
    },
    "language_info": {
      "codemirror_mode": {
        "name": "ipython",
        "version": 3
      },
      "file_extension": ".py",
      "mimetype": "text/x-python",
      "name": "python",
      "nbconvert_exporter": "python",
      "pygments_lexer": "ipython3",
      "version": "3.9.7"
    }
  },
  "nbformat": 4,
  "nbformat_minor": 0
}
