{
  "nbformat": 4,
  "nbformat_minor": 0,
  "metadata": {
    "colab": {
      "provenance": [],
      "collapsed_sections": [],
      "include_colab_link": true
    },
    "kernelspec": {
      "name": "python3",
      "display_name": "Python 3"
    },
    "language_info": {
      "name": "python"
    }
  },
  "cells": [
    {
      "cell_type": "markdown",
      "metadata": {
        "id": "view-in-github",
        "colab_type": "text"
      },
      "source": [
        "<a href=\"https://colab.research.google.com/github/Matias1428/Python/blob/main/Hyperparameter_Tuning.ipynb\" target=\"_parent\"><img src=\"https://colab.research.google.com/assets/colab-badge.svg\" alt=\"Open In Colab\"/></a>"
      ]
    },
    {
      "cell_type": "markdown",
      "source": [
        "## SETUP"
      ],
      "metadata": {
        "id": "9wdyJvOPz-Dq"
      }
    },
    {
      "cell_type": "code",
      "metadata": {
        "id": "wtvP8YUSgoxm"
      },
      "source": [
        "import numpy as np\n",
        "import pandas as pd\n",
        "import matplotlib.pyplot as plt\n",
        "from scipy import stats\n",
        "\n",
        "from sklearn.datasets import load_breast_cancer, load_boston\n",
        "\n",
        "from sklearn.ensemble import (RandomForestClassifier, \n",
        "                              GradientBoostingClassifier, \n",
        "                              GradientBoostingRegressor)\n",
        "\n",
        "from sklearn.linear_model import LogisticRegression\n",
        "\n",
        "from sklearn.metrics import ( \n",
        "    accuracy_score, \n",
        "    precision_score, \n",
        "    recall_score, \n",
        "    f1_score, \n",
        "    classification_report, \n",
        "    roc_auc_score,\n",
        "    \n",
        "    mean_squared_error)\n",
        "\n",
        "from sklearn.model_selection import (\n",
        "    KFold,\n",
        "    cross_validate,\n",
        "    train_test_split,\n",
        "    GridSearchCV,\n",
        "    RandomizedSearchCV\n",
        ")"
      ],
      "execution_count": null,
      "outputs": []
    },
    {
      "cell_type": "markdown",
      "source": [
        "Cargamos datos para ejemplificar"
      ],
      "metadata": {
        "id": "FSN8-dcO0D8q"
      }
    },
    {
      "cell_type": "code",
      "source": [
        "# Cargamos los datos\n",
        "breast_cancer_X, breast_cancer_y = load_breast_cancer(return_X_y=True)\n",
        "\n",
        "X = pd.DataFrame(breast_cancer_X)\n",
        "y = pd.Series(breast_cancer_y).map({0:1, 1:0})\n",
        "\n",
        "# Partimos en train y test\n",
        "\n",
        "X_train, X_test, y_train, y_test = train_test_split(X, y, \n",
        "                                                    test_size=0.3, \n",
        "                                                    random_state=0)"
      ],
      "metadata": {
        "id": "X3b4qf5kzj07"
      },
      "execution_count": null,
      "outputs": []
    },
    {
      "cell_type": "markdown",
      "source": [
        "## __`Busquedas manuales`__"
      ],
      "metadata": {
        "id": "BOkSlAPyyylu"
      }
    },
    {
      "cell_type": "markdown",
      "source": [
        "Es la forma más simple de buscar hiperparametros, solo consiste en variar manualmente los valores y estudiar los resultados finales de cada combinación probada"
      ],
      "metadata": {
        "id": "OimcOwkA2vj5"
      }
    },
    {
      "cell_type": "markdown",
      "source": [
        "#### Modelo 1"
      ],
      "metadata": {
        "id": "0_Tk8opT29KU"
      }
    },
    {
      "cell_type": "markdown",
      "source": [
        "probamos con `C = 0.001`, `penalty = 'l1'`"
      ],
      "metadata": {
        "id": "YGnAYoyZEmN5"
      }
    },
    {
      "cell_type": "code",
      "source": [
        "# Logistic Regression\n",
        "lr = LogisticRegression(penalty ='l1', \n",
        "                        C=0.01, \n",
        "                        solver='liblinear', \n",
        "                        random_state=123, \n",
        "                        max_iter=10000)\n",
        "\n",
        "# Esquema K-Fold Cross-Validation\n",
        "kf = KFold(n_splits=5, \n",
        "           shuffle=True, \n",
        "           random_state=123)\n",
        "\n",
        "# estimamos el error generalizado\n",
        "clf =  cross_validate(lr,\n",
        "                      X_train, \n",
        "                      y_train,\n",
        "                      scoring='roc_auc',\n",
        "                      return_train_score=True,\n",
        "                      cv=kf)"
      ],
      "metadata": {
        "id": "eIEJ3CqUyxls"
      },
      "execution_count": null,
      "outputs": []
    },
    {
      "cell_type": "code",
      "source": [],
      "metadata": {
        "id": "OmRBxCdswRq5"
      },
      "execution_count": null,
      "outputs": []
    },
    {
      "cell_type": "code",
      "source": [
        "# obtenemos el diccionario con los resultados\n",
        "type(clf)"
      ],
      "metadata": {
        "id": "KbdCEQ5s1fsh",
        "colab": {
          "base_uri": "https://localhost:8080/"
        },
        "outputId": "c048bde0-9c84-487d-ed0c-772f59038cb9"
      },
      "execution_count": null,
      "outputs": [
        {
          "output_type": "execute_result",
          "data": {
            "text/plain": [
              "dict"
            ]
          },
          "metadata": {},
          "execution_count": 5
        }
      ]
    },
    {
      "cell_type": "code",
      "source": [
        "clf.keys()"
      ],
      "metadata": {
        "id": "U2ycYXx2vda5",
        "colab": {
          "base_uri": "https://localhost:8080/"
        },
        "outputId": "7cb2703a-6cd0-4500-867a-394eaf0ddc93"
      },
      "execution_count": null,
      "outputs": [
        {
          "output_type": "execute_result",
          "data": {
            "text/plain": [
              "dict_keys(['fit_time', 'score_time', 'test_score', 'train_score'])"
            ]
          },
          "metadata": {},
          "execution_count": 6
        }
      ]
    },
    {
      "cell_type": "code",
      "source": [
        "clf['test_score']"
      ],
      "metadata": {
        "id": "AnGC4YLpvZDv",
        "colab": {
          "base_uri": "https://localhost:8080/"
        },
        "outputId": "6aec7e7f-4935-43a5-c7a5-e0991d5eb390"
      },
      "execution_count": null,
      "outputs": [
        {
          "output_type": "execute_result",
          "data": {
            "text/plain": [
              "array([0.98901099, 0.95123626, 0.93021725, 0.99667553, 0.97755102])"
            ]
          },
          "metadata": {},
          "execution_count": 7
        }
      ]
    },
    {
      "cell_type": "code",
      "source": [
        "clf['train_score']"
      ],
      "metadata": {
        "id": "PDNRmV-zq6lZ",
        "colab": {
          "base_uri": "https://localhost:8080/"
        },
        "outputId": "e0b72d5d-e88d-4f8e-b033-5371a66851c9"
      },
      "execution_count": null,
      "outputs": [
        {
          "output_type": "execute_result",
          "data": {
            "text/plain": [
              "array([0.96593531, 0.98175106, 0.98016949, 0.96682745, 0.9702521 ])"
            ]
          },
          "metadata": {},
          "execution_count": 8
        }
      ]
    },
    {
      "cell_type": "code",
      "source": [
        "print(np.mean(clf['test_score']))\n",
        "print(np.std(clf['test_score']))"
      ],
      "metadata": {
        "id": "DZOcWTjme5Ok",
        "colab": {
          "base_uri": "https://localhost:8080/"
        },
        "outputId": "65238674-ceaf-4736-fcb1-62a64000dc10"
      },
      "execution_count": null,
      "outputs": [
        {
          "output_type": "stream",
          "name": "stdout",
          "text": [
            "0.9689382106519815\n",
            "0.024735107731352995\n"
          ]
        }
      ]
    },
    {
      "cell_type": "code",
      "source": [
        "print(np.mean(clf['train_score']))\n",
        "print(np.std(clf['train_score']))"
      ],
      "metadata": {
        "id": "jQ6YWfI5fDUa",
        "colab": {
          "base_uri": "https://localhost:8080/"
        },
        "outputId": "cd479148-c400-4361-ea88-cb6224ef93ab"
      },
      "execution_count": null,
      "outputs": [
        {
          "output_type": "stream",
          "name": "stdout",
          "text": [
            "0.9729870828541657\n",
            "0.006686448196780827\n"
          ]
        }
      ]
    },
    {
      "cell_type": "code",
      "source": [
        "# Ajustamos el modelo con todos los datos\n",
        "lr.fit(X_train, y_train)"
      ],
      "metadata": {
        "id": "trbpg7PD11Jw",
        "colab": {
          "base_uri": "https://localhost:8080/"
        },
        "outputId": "3e5874e3-b28d-4743-eb1d-1f22178bcc95"
      },
      "execution_count": null,
      "outputs": [
        {
          "output_type": "execute_result",
          "data": {
            "text/plain": [
              "LogisticRegression(C=0.01, max_iter=10000, penalty='l1', random_state=123,\n",
              "                   solver='liblinear')"
            ]
          },
          "metadata": {},
          "execution_count": 11
        }
      ]
    },
    {
      "cell_type": "code",
      "source": [
        "# Creamos pronosticos\n",
        "test_preds = lr.predict(X_test)\n",
        "print(accuracy_score(y_test, test_preds))"
      ],
      "metadata": {
        "id": "UmzoqAGV2LGd",
        "colab": {
          "base_uri": "https://localhost:8080/"
        },
        "outputId": "41dcfcbf-0f63-4d28-c86d-9226fc8db1bc"
      },
      "execution_count": null,
      "outputs": [
        {
          "output_type": "stream",
          "name": "stdout",
          "text": [
            "0.9473684210526315\n"
          ]
        }
      ]
    },
    {
      "cell_type": "markdown",
      "source": [
        "#### Modelo 2"
      ],
      "metadata": {
        "id": "riL1DqxS3Mpi"
      }
    },
    {
      "cell_type": "markdown",
      "source": [
        "probamos con `C = 1`, `penalty = 'l2'`"
      ],
      "metadata": {
        "id": "SOINgQwOEqSg"
      }
    },
    {
      "cell_type": "code",
      "source": [
        "# # Logistic Regression\n",
        "# lr = LogisticRegression(penalty ='l1', \n",
        "#                         C=0.01, \n",
        "#                         solver='liblinear', \n",
        "#                         random_state=123, \n",
        "#                         max_iter=10000)\n",
        "\n",
        "# # Esquema K-Fold Cross-Validation\n",
        "# kf = KFold(n_splits=5, \n",
        "#            shuffle=True, \n",
        "#            random_state=123)\n",
        "\n",
        "# # estimamos el error generalizado\n",
        "# clf =  cross_validate(lr,\n",
        "#                       X_train, \n",
        "#                       y_train,\n",
        "#                       scoring='roc_auc',\n",
        "#                       return_train_score=True,\n",
        "#                       cv=kf)"
      ],
      "metadata": {
        "id": "cZ-KaevtPkZM"
      },
      "execution_count": null,
      "outputs": []
    },
    {
      "cell_type": "code",
      "source": [
        "# Logistic Regression\n",
        "lr = LogisticRegression(penalty ='l2', \n",
        "                        C=1, \n",
        "                        solver='liblinear', \n",
        "                        random_state=123, \n",
        "                        max_iter=10000)\n",
        "\n",
        "# Esquema K-Fold Cross-Validation\n",
        "kf = KFold(n_splits=5, \n",
        "           shuffle=True, \n",
        "           random_state=123)\n",
        "\n",
        "# estimamos el error generalizado\n",
        "clf =  cross_validate(lr,\n",
        "                      X_train, \n",
        "                      y_train,\n",
        "                      scoring='accuracy',\n",
        "                      return_train_score=True,\n",
        "                      cv=kf)"
      ],
      "metadata": {
        "id": "6NwvbnmS1WBr"
      },
      "execution_count": null,
      "outputs": []
    },
    {
      "cell_type": "code",
      "source": [
        "print(np.mean(clf['test_score']))\n",
        "print(np.std(clf['test_score']))"
      ],
      "metadata": {
        "id": "ENRS4iO04Zy7",
        "colab": {
          "base_uri": "https://localhost:8080/"
        },
        "outputId": "d26aacd8-0d9e-4e14-c499-6b5a2741ef73"
      },
      "execution_count": null,
      "outputs": [
        {
          "output_type": "stream",
          "name": "stdout",
          "text": [
            "0.9422784810126583\n",
            "0.030272655391901895\n"
          ]
        }
      ]
    },
    {
      "cell_type": "code",
      "source": [
        "print(np.mean(clf['train_score']))\n",
        "print(np.std(clf['train_score']))"
      ],
      "metadata": {
        "id": "BVHcDdBefkLG",
        "colab": {
          "base_uri": "https://localhost:8080/"
        },
        "outputId": "003c9779-56a6-462c-fbcb-aa46cf6311ab"
      },
      "execution_count": null,
      "outputs": [
        {
          "output_type": "stream",
          "name": "stdout",
          "text": [
            "0.9604286193095563\n",
            "0.007319240455215062\n"
          ]
        }
      ]
    },
    {
      "cell_type": "code",
      "source": [
        "# Ajustamos el modelo con todos los datos\n",
        "lr.fit(X_train, y_train)"
      ],
      "metadata": {
        "id": "XVppr1NA4eEW",
        "colab": {
          "base_uri": "https://localhost:8080/"
        },
        "outputId": "71c9c735-c9ab-408f-d1ff-43e1485e578a"
      },
      "execution_count": null,
      "outputs": [
        {
          "output_type": "execute_result",
          "data": {
            "text/plain": [
              "LogisticRegression(C=1, max_iter=10000, random_state=123, solver='liblinear')"
            ]
          },
          "metadata": {},
          "execution_count": 16
        }
      ]
    },
    {
      "cell_type": "code",
      "source": [
        "# Creamos pronosticos\n",
        "test_preds = lr.predict(X_test)\n",
        "print(accuracy_score(y_test, test_preds))"
      ],
      "metadata": {
        "id": "_xAzMKJh4hW3",
        "colab": {
          "base_uri": "https://localhost:8080/"
        },
        "outputId": "81c9e3e0-362a-40b6-b839-1c1f680842ea"
      },
      "execution_count": null,
      "outputs": [
        {
          "output_type": "stream",
          "name": "stdout",
          "text": [
            "0.9649122807017544\n"
          ]
        }
      ]
    },
    {
      "cell_type": "code",
      "source": [
        "0.9473684210526315"
      ],
      "metadata": {
        "id": "56BMh8uhrU-5",
        "colab": {
          "base_uri": "https://localhost:8080/"
        },
        "outputId": "dd1bd179-5e58-4b00-ccb1-d3b94fc84bb3"
      },
      "execution_count": null,
      "outputs": [
        {
          "output_type": "execute_result",
          "data": {
            "text/plain": [
              "0.9473684210526315"
            ]
          },
          "metadata": {},
          "execution_count": 18
        }
      ]
    },
    {
      "cell_type": "markdown",
      "metadata": {
        "id": "0CHayCf_m8Un"
      },
      "source": [
        "## __`GridSearchCV`__"
      ]
    },
    {
      "cell_type": "markdown",
      "metadata": {
        "id": "J1CrWcPSnBSW"
      },
      "source": [
        "Pasos en una búsqueda de hiperparámetros con __`GridSearchCV`__:\n",
        "\n",
        "1. Instanciar un algoritmo (estimador) para ajustar hiperparámetros\n",
        "2. Definir qué hiperparámetros serán ajustados\n",
        "3. Definir un rango de valores para cada hiperparámetro\n",
        "4. Establecer un esquema de cross validation\n",
        "5. Definir una métrica (recall, presicion, RMSE, etc.) para que podamos decidir qué combinación de hiperparámetros es la mejor\n",
        "6. Incluir información extra o funciones adicionales útiles"
      ]
    },
    {
      "cell_type": "markdown",
      "metadata": {
        "id": "54zLppwgopx7"
      },
      "source": [
        "Los argumentos del __[`GridSearchCV`](https://scikit-learn.org/stable/modules/generated/sklearn.model_selection.GridSearchCV.html)__ son:\n",
        "\n",
        "* `estimator`, el algoritmo que será usado (knn, RandomForest, etc.)\n",
        "* `param_grid`, diccionadrio de hiperparámetros y sus valores que serán probados\n",
        "* `cv`, esquema de validación cruzada que será usado\n",
        "* `scoring`, métrica usada para evaluar el performance del modelo\n",
        "* `refit`, (True/False) si es True, ajustará un modelo sobre todos los datos usando los mejores hiperparámetros encontrados, esto implica que el objeto __`GridSearchCV`__ ahora pasará a ser usado como un estimador\n",
        "* `n_jobs`, para ejecutar la busqueda en paralelo\n",
        "* `return_train_score` es el log de las estadísticas que fueron tomadas, es útil para entender el performance de training vs test\n",
        "* `verbose`, Controla los mensajes que se imprimen al momento de hacer los ajustes"
      ]
    },
    {
      "cell_type": "code",
      "metadata": {
        "id": "xyKsau2MsDE5"
      },
      "source": [
        "# partimos en train y test\n",
        "X_train, X_test, y_train, y_test = train_test_split(X, y, \n",
        "                                                    test_size=0.3, \n",
        "                                                    random_state=0)"
      ],
      "execution_count": null,
      "outputs": []
    },
    {
      "cell_type": "markdown",
      "source": [
        "Debemos traer el GridSearchCV\n",
        "\n",
        "```python\n",
        "from sklearn.model_selection import GridSearchCV\n",
        "```\n",
        "\n"
      ],
      "metadata": {
        "id": "bEoYM2lN8pqB"
      }
    },
    {
      "cell_type": "code",
      "source": [
        "# Instanciamos el modelo\n",
        "gbm = GradientBoostingClassifier(random_state=0)"
      ],
      "metadata": {
        "id": "XjNc87UH5dDx"
      },
      "execution_count": null,
      "outputs": []
    },
    {
      "cell_type": "markdown",
      "source": [
        "Creamos el grid de parametros, que es un diccionario donde:\n",
        "\n",
        "*   las llaves del diccionario son los hiperparametros que vamos a calibrar\n",
        "*   los valores del diccionario son listas con los valores de los respectivos hiperparametros que seran probados\n",
        "\n",
        "Ejemplo:\n",
        "\n",
        "```python\n",
        "param_grid = {'hiperparametro_01': [valor_h11, valor_h12, valor_h13], \n",
        "              'hiperparametro_02': [valor_h21, valor_h22, valor_h23],\n",
        "              '...':[...],\n",
        "              'hiperparametro_N':[valor_hN1, valor_hN2, valor_N3]\n",
        "              }\n",
        "```\n",
        "\n"
      ],
      "metadata": {
        "id": "EOSKKjwo5ot7"
      }
    },
    {
      "cell_type": "code",
      "source": [
        "# Creamos el grid de nuestro ejercicio\n",
        "param_grid = {'n_estimators': [50, 100, 150],\n",
        "              'min_samples_split': [0.1, 0.3, 0.5, 0.7],\n",
        "              'max_depth': [2, 5, 10, 15],\n",
        "              }"
      ],
      "metadata": {
        "id": "mVjtoDAZ5fXO"
      },
      "execution_count": null,
      "outputs": []
    },
    {
      "cell_type": "code",
      "source": [
        "print('Numero de combinaciones entre los parametros a probar:')\n",
        "print(len(param_grid['n_estimators'])*len(param_grid['min_samples_split'])*len(param_grid['max_depth']))"
      ],
      "metadata": {
        "id": "TODg83Q-9Z0i",
        "colab": {
          "base_uri": "https://localhost:8080/"
        },
        "outputId": "b81da9ce-78ee-430a-e2de-192d6b618480"
      },
      "execution_count": null,
      "outputs": [
        {
          "output_type": "stream",
          "name": "stdout",
          "text": [
            "Numero de combinaciones entre los parametros a probar:\n",
            "48\n"
          ]
        }
      ]
    },
    {
      "cell_type": "code",
      "source": [
        "# Supongamos que queremos probar con un esquema de 10 validaciones crizadas"
      ],
      "metadata": {
        "id": "atc3dsiITjMS"
      },
      "execution_count": null,
      "outputs": []
    },
    {
      "cell_type": "code",
      "source": [
        "10*48"
      ],
      "metadata": {
        "id": "U2zp6VPbTnNe",
        "colab": {
          "base_uri": "https://localhost:8080/"
        },
        "outputId": "4d8ab420-2627-4c16-ae42-bc8c0954965d"
      },
      "execution_count": null,
      "outputs": [
        {
          "output_type": "execute_result",
          "data": {
            "text/plain": [
              "480"
            ]
          },
          "metadata": {},
          "execution_count": 25
        }
      ]
    },
    {
      "cell_type": "code",
      "source": [
        "# aun falta ajustar el modelo final con los mejores hiperparametros enmcontrados\n",
        "10*48 + 1"
      ],
      "metadata": {
        "id": "2qd5CmdxTqhK",
        "colab": {
          "base_uri": "https://localhost:8080/"
        },
        "outputId": "79fa795b-4f13-4213-f67e-cf6eaead6458"
      },
      "execution_count": null,
      "outputs": [
        {
          "output_type": "execute_result",
          "data": {
            "text/plain": [
              "481"
            ]
          },
          "metadata": {},
          "execution_count": 26
        }
      ]
    },
    {
      "cell_type": "code",
      "source": [
        "# Instanciamos el GridSearchCV\n",
        "grid_gbm_search = GridSearchCV(estimator=gbm,\n",
        "                               param_grid=param_grid,\n",
        "                               scoring='roc_auc',\n",
        "                               n_jobs=-1, # Cuando colocamos menos 1 quiere decir que usaremos todos los cores disponibles en nuestra maquina\n",
        "                               verbose = True,\n",
        "                               cv=4,\n",
        "                               refit=True, \n",
        "                               return_train_score=True)"
      ],
      "metadata": {
        "id": "eUejBvqx8eB0"
      },
      "execution_count": null,
      "outputs": []
    },
    {
      "cell_type": "code",
      "metadata": {
        "id": "e56A_Kctsmux",
        "colab": {
          "base_uri": "https://localhost:8080/"
        },
        "outputId": "fb05bb0e-df9d-40db-eced-13a9f694ddb2"
      },
      "source": [
        "%%time\n",
        "# Buscamos y ajustamos  hiperparametros con los datos de entrenamiento\n",
        "grid_gbm_search.fit(X_train, y_train)"
      ],
      "execution_count": null,
      "outputs": [
        {
          "output_type": "stream",
          "name": "stdout",
          "text": [
            "Fitting 4 folds for each of 48 candidates, totalling 192 fits\n",
            "CPU times: user 1.89 s, sys: 116 ms, total: 2.01 s\n",
            "Wall time: 56.4 s\n"
          ]
        },
        {
          "output_type": "execute_result",
          "data": {
            "text/plain": [
              "GridSearchCV(cv=4, estimator=GradientBoostingClassifier(random_state=0),\n",
              "             n_jobs=-1,\n",
              "             param_grid={'max_depth': [2, 5, 10, 15],\n",
              "                         'min_samples_split': [0.1, 0.3, 0.5, 0.7],\n",
              "                         'n_estimators': [50, 100, 150]},\n",
              "             return_train_score=True, scoring='roc_auc', verbose=True)"
            ]
          },
          "metadata": {},
          "execution_count": 24
        }
      ]
    },
    {
      "cell_type": "code",
      "source": [
        "type(grid_gbm_search)"
      ],
      "metadata": {
        "id": "KXK-fKKK8i6F",
        "colab": {
          "base_uri": "https://localhost:8080/"
        },
        "outputId": "c3c98df7-d8d3-4352-c70b-13afc60a28b2"
      },
      "execution_count": null,
      "outputs": [
        {
          "output_type": "execute_result",
          "data": {
            "text/plain": [
              "sklearn.model_selection._search.GridSearchCV"
            ]
          },
          "metadata": {},
          "execution_count": 25
        }
      ]
    },
    {
      "cell_type": "code",
      "source": [
        "dir(grid_gbm_search)"
      ],
      "metadata": {
        "id": "ygifKZw88n23",
        "colab": {
          "base_uri": "https://localhost:8080/"
        },
        "outputId": "91c806a2-e3a6-4291-c9ae-8dca263f7f34"
      },
      "execution_count": null,
      "outputs": [
        {
          "output_type": "execute_result",
          "data": {
            "text/plain": [
              "['__abstractmethods__',\n",
              " '__class__',\n",
              " '__delattr__',\n",
              " '__dict__',\n",
              " '__dir__',\n",
              " '__doc__',\n",
              " '__eq__',\n",
              " '__format__',\n",
              " '__ge__',\n",
              " '__getattribute__',\n",
              " '__getstate__',\n",
              " '__gt__',\n",
              " '__hash__',\n",
              " '__init__',\n",
              " '__init_subclass__',\n",
              " '__le__',\n",
              " '__lt__',\n",
              " '__module__',\n",
              " '__ne__',\n",
              " '__new__',\n",
              " '__reduce__',\n",
              " '__reduce_ex__',\n",
              " '__repr__',\n",
              " '__setattr__',\n",
              " '__setstate__',\n",
              " '__sizeof__',\n",
              " '__str__',\n",
              " '__subclasshook__',\n",
              " '__weakref__',\n",
              " '_abc_impl',\n",
              " '_check_feature_names',\n",
              " '_check_n_features',\n",
              " '_check_refit_for_multimetric',\n",
              " '_estimator_type',\n",
              " '_format_results',\n",
              " '_get_param_names',\n",
              " '_get_tags',\n",
              " '_more_tags',\n",
              " '_pairwise',\n",
              " '_repr_html_',\n",
              " '_repr_html_inner',\n",
              " '_repr_mimebundle_',\n",
              " '_required_parameters',\n",
              " '_run_search',\n",
              " '_select_best_index',\n",
              " '_validate_data',\n",
              " 'best_estimator_',\n",
              " 'best_index_',\n",
              " 'best_params_',\n",
              " 'best_score_',\n",
              " 'classes_',\n",
              " 'cv',\n",
              " 'cv_results_',\n",
              " 'decision_function',\n",
              " 'error_score',\n",
              " 'estimator',\n",
              " 'fit',\n",
              " 'get_params',\n",
              " 'inverse_transform',\n",
              " 'multimetric_',\n",
              " 'n_features_in_',\n",
              " 'n_jobs',\n",
              " 'n_splits_',\n",
              " 'param_grid',\n",
              " 'pre_dispatch',\n",
              " 'predict',\n",
              " 'predict_log_proba',\n",
              " 'predict_proba',\n",
              " 'refit',\n",
              " 'refit_time_',\n",
              " 'return_train_score',\n",
              " 'score',\n",
              " 'score_samples',\n",
              " 'scorer_',\n",
              " 'scoring',\n",
              " 'set_params',\n",
              " 'transform',\n",
              " 'verbose']"
            ]
          },
          "metadata": {},
          "execution_count": 26
        }
      ]
    },
    {
      "cell_type": "code",
      "metadata": {
        "id": "mQd8qgkKsm45"
      },
      "source": [
        "# Usamos grid_rf_class para generar predicciones\n",
        "y_pred = grid_gbm_search.predict(X_test)"
      ],
      "execution_count": null,
      "outputs": []
    },
    {
      "cell_type": "code",
      "source": [
        "print(classification_report(y_test, y_pred))\n",
        "print('-'*30)\n",
        "print(roc_auc_score(y_test, y_pred))"
      ],
      "metadata": {
        "id": "9Pm7kDRsHA7O",
        "colab": {
          "base_uri": "https://localhost:8080/"
        },
        "outputId": "542f215f-a51f-43b6-b03c-d47a12d024cb"
      },
      "execution_count": null,
      "outputs": [
        {
          "output_type": "stream",
          "name": "stdout",
          "text": [
            "              precision    recall  f1-score   support\n",
            "\n",
            "           0       0.99      0.98      0.99       108\n",
            "           1       0.97      0.98      0.98        63\n",
            "\n",
            "    accuracy                           0.98       171\n",
            "   macro avg       0.98      0.98      0.98       171\n",
            "weighted avg       0.98      0.98      0.98       171\n",
            "\n",
            "------------------------------\n",
            "0.9828042328042329\n"
          ]
        }
      ]
    },
    {
      "cell_type": "markdown",
      "metadata": {
        "id": "UIxv6cxHuCAo"
      },
      "source": [
        "### Resultados del __`GridSearchCV`__"
      ]
    },
    {
      "cell_type": "markdown",
      "metadata": {
        "id": "YUOLBy-duPOm"
      },
      "source": [
        "* log de resultados\n",
        "    + `.cv_results_` (diccionario de resultados)\n",
        "\n",
        "* Mejores resultados\n",
        "    + `.best_index_` (indice del mejor modelo), `.best_params_` (mejores parámetros) & `.best_score_` (mejor score)\n",
        "\n",
        "* Información extra\n",
        "    + `.scorer_` (métrica usada), `.n_splits_` (k usado en cv) & `.refit_time_` (tiempos)"
      ]
    },
    {
      "cell_type": "code",
      "source": [
        "# Creamos el grid de nuestro ejercicio\n",
        "param_grid = {'n_estimators': [50, 100, 150],\n",
        "              'min_samples_split': [0.1, 0.3, 0.5, 0.7],\n",
        "              'max_depth': [2, 5, 10, 15],\n",
        "              }"
      ],
      "metadata": {
        "id": "hSu1PMC79LLa"
      },
      "execution_count": null,
      "outputs": []
    },
    {
      "cell_type": "code",
      "metadata": {
        "id": "-CXnR48tk8TL",
        "colab": {
          "base_uri": "https://localhost:8080/"
        },
        "outputId": "11c65bf4-b5af-4ffe-aa75-fdc0919772a2"
      },
      "source": [
        "# podemos extrae los mejores hiperparametros para despues intentar ajustar un nuevo modelo\n",
        "print(grid_gbm_search.best_params_) "
      ],
      "execution_count": null,
      "outputs": [
        {
          "output_type": "stream",
          "name": "stdout",
          "text": [
            "{'max_depth': 5, 'min_samples_split': 0.5, 'n_estimators': 150}\n"
          ]
        }
      ]
    },
    {
      "cell_type": "code",
      "source": [
        "# podemos obtener la metrica promedio del proceso de validación cruzada\n",
        "print(grid_gbm_search.best_score_) "
      ],
      "metadata": {
        "id": "tdze83fQG0AB",
        "colab": {
          "base_uri": "https://localhost:8080/"
        },
        "outputId": "1bf962d2-8155-42ab-d3c0-7524691c4ed0"
      },
      "execution_count": null,
      "outputs": [
        {
          "output_type": "stream",
          "name": "stdout",
          "text": [
            "0.9898031368744443\n"
          ]
        }
      ]
    },
    {
      "cell_type": "code",
      "source": [
        "grid_gbm_search.cv_results_"
      ],
      "metadata": {
        "id": "1prj9KTjvj2J",
        "colab": {
          "base_uri": "https://localhost:8080/"
        },
        "outputId": "ef5928fc-8efd-4fb0-8194-50bc2571976c"
      },
      "execution_count": null,
      "outputs": [
        {
          "output_type": "execute_result",
          "data": {
            "text/plain": [
              "{'mean_fit_time': array([0.16831791, 0.2951135 , 0.45342225, 0.15242833, 0.28783858,\n",
              "        0.42802006, 0.13173622, 0.27105463, 0.40655804, 0.11180305,\n",
              "        0.24424064, 0.35689509, 0.30211157, 0.59588552, 0.89895761,\n",
              "        0.28951192, 0.55478507, 0.83284217, 0.2131319 , 0.39932388,\n",
              "        0.60810888, 0.1116671 , 0.25905985, 0.41395175, 0.48591417,\n",
              "        0.98705071, 1.47876316, 0.62329692, 1.10740644, 1.34465051,\n",
              "        0.26909375, 0.51890743, 0.73297065, 0.1143986 , 0.25805384,\n",
              "        0.41247499, 0.59147644, 1.25110728, 1.89777124, 0.51856685,\n",
              "        1.04424351, 1.56931031, 0.27467865, 0.50521642, 0.77776009,\n",
              "        0.1136995 , 0.25422037, 0.40201384]),\n",
              " 'std_fit_time': array([0.00665384, 0.00288303, 0.01188204, 0.00982184, 0.00243936,\n",
              "        0.00504873, 0.00244072, 0.01079937, 0.00889232, 0.00230648,\n",
              "        0.00711463, 0.00819595, 0.00891928, 0.00911507, 0.02155984,\n",
              "        0.00290171, 0.01064048, 0.01243628, 0.00986937, 0.01196069,\n",
              "        0.02776538, 0.00319878, 0.01496448, 0.03129023, 0.00382125,\n",
              "        0.03166252, 0.06755509, 0.15531712, 0.26411378, 0.07725109,\n",
              "        0.0183521 , 0.05739984, 0.07965843, 0.00418826, 0.01887931,\n",
              "        0.02851467, 0.01001453, 0.02258556, 0.0452371 , 0.01151926,\n",
              "        0.03735883, 0.09368525, 0.02495059, 0.0382079 , 0.07138417,\n",
              "        0.004563  , 0.01080756, 0.02689867]),\n",
              " 'mean_score_time': array([0.00543094, 0.00543618, 0.00703865, 0.00529766, 0.00541639,\n",
              "        0.00569266, 0.00540084, 0.00567663, 0.00560278, 0.00542021,\n",
              "        0.00552875, 0.00562024, 0.00532645, 0.00570267, 0.00757211,\n",
              "        0.0054872 , 0.00673854, 0.00654775, 0.005445  , 0.00555098,\n",
              "        0.00577569, 0.00657135, 0.00577408, 0.00561404, 0.00578541,\n",
              "        0.00615817, 0.00610006, 0.00899851, 0.00598311, 0.00609994,\n",
              "        0.0070315 , 0.00553823, 0.0060572 , 0.00704658, 0.00545561,\n",
              "        0.00571007, 0.00561935, 0.00599104, 0.00643581, 0.00556779,\n",
              "        0.00576288, 0.00635433, 0.00569171, 0.00573796, 0.00628364,\n",
              "        0.00725377, 0.0063538 , 0.00527525]),\n",
              " 'std_score_time': array([1.53408693e-04, 6.92352529e-05, 2.13368418e-03, 6.87801444e-05,\n",
              "        5.21398593e-05, 1.18132902e-04, 3.17080464e-05, 3.29178727e-04,\n",
              "        8.98917684e-05, 6.32971019e-05, 7.73616627e-05, 9.95837902e-05,\n",
              "        6.04553020e-05, 2.03531796e-04, 2.59511738e-03, 2.00364894e-04,\n",
              "        1.92271277e-03, 8.77256365e-04, 2.44127877e-04, 5.37139386e-05,\n",
              "        1.34406240e-04, 1.05229858e-03, 3.26286665e-04, 9.21104501e-05,\n",
              "        3.38533578e-04, 7.88652449e-04, 3.05736551e-04, 4.27214806e-03,\n",
              "        3.38806768e-04, 1.01776672e-04, 2.55017439e-03, 7.66603790e-05,\n",
              "        4.38795983e-04, 2.83290865e-03, 1.23915118e-04, 8.35915352e-05,\n",
              "        2.11182840e-04, 9.36044785e-05, 5.22240030e-04, 9.94129715e-05,\n",
              "        8.19111613e-05, 3.08679743e-04, 2.50329822e-04, 1.31994281e-04,\n",
              "        5.44394500e-04, 3.08918734e-03, 1.50097770e-03, 1.09434997e-03]),\n",
              " 'param_max_depth': masked_array(data=[2, 2, 2, 2, 2, 2, 2, 2, 2, 2, 2, 2, 5, 5, 5, 5, 5, 5,\n",
              "                    5, 5, 5, 5, 5, 5, 10, 10, 10, 10, 10, 10, 10, 10, 10,\n",
              "                    10, 10, 10, 15, 15, 15, 15, 15, 15, 15, 15, 15, 15, 15,\n",
              "                    15],\n",
              "              mask=[False, False, False, False, False, False, False, False,\n",
              "                    False, False, False, False, False, False, False, False,\n",
              "                    False, False, False, False, False, False, False, False,\n",
              "                    False, False, False, False, False, False, False, False,\n",
              "                    False, False, False, False, False, False, False, False,\n",
              "                    False, False, False, False, False, False, False, False],\n",
              "        fill_value='?',\n",
              "             dtype=object),\n",
              " 'param_min_samples_split': masked_array(data=[0.1, 0.1, 0.1, 0.3, 0.3, 0.3, 0.5, 0.5, 0.5, 0.7, 0.7,\n",
              "                    0.7, 0.1, 0.1, 0.1, 0.3, 0.3, 0.3, 0.5, 0.5, 0.5, 0.7,\n",
              "                    0.7, 0.7, 0.1, 0.1, 0.1, 0.3, 0.3, 0.3, 0.5, 0.5, 0.5,\n",
              "                    0.7, 0.7, 0.7, 0.1, 0.1, 0.1, 0.3, 0.3, 0.3, 0.5, 0.5,\n",
              "                    0.5, 0.7, 0.7, 0.7],\n",
              "              mask=[False, False, False, False, False, False, False, False,\n",
              "                    False, False, False, False, False, False, False, False,\n",
              "                    False, False, False, False, False, False, False, False,\n",
              "                    False, False, False, False, False, False, False, False,\n",
              "                    False, False, False, False, False, False, False, False,\n",
              "                    False, False, False, False, False, False, False, False],\n",
              "        fill_value='?',\n",
              "             dtype=object),\n",
              " 'param_n_estimators': masked_array(data=[50, 100, 150, 50, 100, 150, 50, 100, 150, 50, 100, 150,\n",
              "                    50, 100, 150, 50, 100, 150, 50, 100, 150, 50, 100, 150,\n",
              "                    50, 100, 150, 50, 100, 150, 50, 100, 150, 50, 100, 150,\n",
              "                    50, 100, 150, 50, 100, 150, 50, 100, 150, 50, 100, 150],\n",
              "              mask=[False, False, False, False, False, False, False, False,\n",
              "                    False, False, False, False, False, False, False, False,\n",
              "                    False, False, False, False, False, False, False, False,\n",
              "                    False, False, False, False, False, False, False, False,\n",
              "                    False, False, False, False, False, False, False, False,\n",
              "                    False, False, False, False, False, False, False, False],\n",
              "        fill_value='?',\n",
              "             dtype=object),\n",
              " 'params': [{'max_depth': 2, 'min_samples_split': 0.1, 'n_estimators': 50},\n",
              "  {'max_depth': 2, 'min_samples_split': 0.1, 'n_estimators': 100},\n",
              "  {'max_depth': 2, 'min_samples_split': 0.1, 'n_estimators': 150},\n",
              "  {'max_depth': 2, 'min_samples_split': 0.3, 'n_estimators': 50},\n",
              "  {'max_depth': 2, 'min_samples_split': 0.3, 'n_estimators': 100},\n",
              "  {'max_depth': 2, 'min_samples_split': 0.3, 'n_estimators': 150},\n",
              "  {'max_depth': 2, 'min_samples_split': 0.5, 'n_estimators': 50},\n",
              "  {'max_depth': 2, 'min_samples_split': 0.5, 'n_estimators': 100},\n",
              "  {'max_depth': 2, 'min_samples_split': 0.5, 'n_estimators': 150},\n",
              "  {'max_depth': 2, 'min_samples_split': 0.7, 'n_estimators': 50},\n",
              "  {'max_depth': 2, 'min_samples_split': 0.7, 'n_estimators': 100},\n",
              "  {'max_depth': 2, 'min_samples_split': 0.7, 'n_estimators': 150},\n",
              "  {'max_depth': 5, 'min_samples_split': 0.1, 'n_estimators': 50},\n",
              "  {'max_depth': 5, 'min_samples_split': 0.1, 'n_estimators': 100},\n",
              "  {'max_depth': 5, 'min_samples_split': 0.1, 'n_estimators': 150},\n",
              "  {'max_depth': 5, 'min_samples_split': 0.3, 'n_estimators': 50},\n",
              "  {'max_depth': 5, 'min_samples_split': 0.3, 'n_estimators': 100},\n",
              "  {'max_depth': 5, 'min_samples_split': 0.3, 'n_estimators': 150},\n",
              "  {'max_depth': 5, 'min_samples_split': 0.5, 'n_estimators': 50},\n",
              "  {'max_depth': 5, 'min_samples_split': 0.5, 'n_estimators': 100},\n",
              "  {'max_depth': 5, 'min_samples_split': 0.5, 'n_estimators': 150},\n",
              "  {'max_depth': 5, 'min_samples_split': 0.7, 'n_estimators': 50},\n",
              "  {'max_depth': 5, 'min_samples_split': 0.7, 'n_estimators': 100},\n",
              "  {'max_depth': 5, 'min_samples_split': 0.7, 'n_estimators': 150},\n",
              "  {'max_depth': 10, 'min_samples_split': 0.1, 'n_estimators': 50},\n",
              "  {'max_depth': 10, 'min_samples_split': 0.1, 'n_estimators': 100},\n",
              "  {'max_depth': 10, 'min_samples_split': 0.1, 'n_estimators': 150},\n",
              "  {'max_depth': 10, 'min_samples_split': 0.3, 'n_estimators': 50},\n",
              "  {'max_depth': 10, 'min_samples_split': 0.3, 'n_estimators': 100},\n",
              "  {'max_depth': 10, 'min_samples_split': 0.3, 'n_estimators': 150},\n",
              "  {'max_depth': 10, 'min_samples_split': 0.5, 'n_estimators': 50},\n",
              "  {'max_depth': 10, 'min_samples_split': 0.5, 'n_estimators': 100},\n",
              "  {'max_depth': 10, 'min_samples_split': 0.5, 'n_estimators': 150},\n",
              "  {'max_depth': 10, 'min_samples_split': 0.7, 'n_estimators': 50},\n",
              "  {'max_depth': 10, 'min_samples_split': 0.7, 'n_estimators': 100},\n",
              "  {'max_depth': 10, 'min_samples_split': 0.7, 'n_estimators': 150},\n",
              "  {'max_depth': 15, 'min_samples_split': 0.1, 'n_estimators': 50},\n",
              "  {'max_depth': 15, 'min_samples_split': 0.1, 'n_estimators': 100},\n",
              "  {'max_depth': 15, 'min_samples_split': 0.1, 'n_estimators': 150},\n",
              "  {'max_depth': 15, 'min_samples_split': 0.3, 'n_estimators': 50},\n",
              "  {'max_depth': 15, 'min_samples_split': 0.3, 'n_estimators': 100},\n",
              "  {'max_depth': 15, 'min_samples_split': 0.3, 'n_estimators': 150},\n",
              "  {'max_depth': 15, 'min_samples_split': 0.5, 'n_estimators': 50},\n",
              "  {'max_depth': 15, 'min_samples_split': 0.5, 'n_estimators': 100},\n",
              "  {'max_depth': 15, 'min_samples_split': 0.5, 'n_estimators': 150},\n",
              "  {'max_depth': 15, 'min_samples_split': 0.7, 'n_estimators': 50},\n",
              "  {'max_depth': 15, 'min_samples_split': 0.7, 'n_estimators': 100},\n",
              "  {'max_depth': 15, 'min_samples_split': 0.7, 'n_estimators': 150}],\n",
              " 'split0_test_score': array([0.98648649, 0.98562849, 0.98648649, 0.98648649, 0.98562849,\n",
              "        0.98648649, 0.98863149, 0.98948949, 0.98991849, 0.98841699,\n",
              "        0.99056199, 0.99227799, 0.98648649, 0.97747748, 0.96632347,\n",
              "        0.98734449, 0.98262548, 0.98605749, 0.98648649, 0.98820249,\n",
              "        0.98970399, 0.98841699, 0.98927499, 0.99141999, 0.96589447,\n",
              "        0.96374946, 0.96417846, 0.98391248, 0.98477048, 0.98477048,\n",
              "        0.98348348, 0.98777349, 0.98562849, 0.98841699, 0.98927499,\n",
              "        0.99141999, 0.98026598, 0.97940798, 0.97897898, 0.98562849,\n",
              "        0.98562849, 0.98562849, 0.98541399, 0.98670099, 0.98541399,\n",
              "        0.98841699, 0.98927499, 0.99141999]),\n",
              " 'split1_test_score': array([0.98599321, 0.98684211, 0.98599321, 0.98471986, 0.98344652,\n",
              "        0.98471986, 0.9815365 , 0.97962649, 0.98005093, 0.97877759,\n",
              "        0.97835314, 0.97877759, 0.98662988, 0.98684211, 0.98726655,\n",
              "        0.98832767, 0.9885399 , 0.98938879, 0.98471986, 0.98259762,\n",
              "        0.98302207, 0.97750424, 0.97877759, 0.97835314, 0.98662988,\n",
              "        0.98662988, 0.98662988, 0.98747878, 0.98620543, 0.98471986,\n",
              "        0.98471986, 0.98556876, 0.98387097, 0.97750424, 0.97877759,\n",
              "        0.97835314, 0.98535654, 0.97347199, 0.97219864, 0.98684211,\n",
              "        0.98599321, 0.98599321, 0.98471986, 0.98641766, 0.98514431,\n",
              "        0.97750424, 0.97877759, 0.97835314]),\n",
              " 'split2_test_score': array([0.98343505, 0.98256321, 0.98212729, 0.98561465, 0.98256321,\n",
              "        0.98169137, 0.98256321, 0.97863993, 0.97951177, 0.98256321,\n",
              "        0.98735833, 0.98997384, 0.98605057, 0.98517873, 0.98779425,\n",
              "        0.98474281, 0.98517873, 0.98735833, 0.98430689, 0.98692241,\n",
              "        0.98779425, 0.98212729, 0.98866609, 0.99040976, 0.96294682,\n",
              "        0.97994769, 0.98169137, 0.97863993, 0.97863993, 0.97733217,\n",
              "        0.98387097, 0.98517873, 0.98387097, 0.98212729, 0.98866609,\n",
              "        0.99040976, 0.96294682, 0.97776809, 0.98299913, 0.95989538,\n",
              "        0.97820401, 0.98038361, 0.98343505, 0.98605057, 0.98343505,\n",
              "        0.98212729, 0.98866609, 0.99040976]),\n",
              " 'split3_test_score': array([0.99084568, 0.99651264, 0.99738448, 0.99302528, 0.99607672,\n",
              "        0.99651264, 0.99302528, 0.99694856, 0.99738448, 0.98910201,\n",
              "        0.99520488, 0.99651264, 0.99084568, 0.99433304, 0.99651264,\n",
              "        0.98866609, 0.99389712, 0.99520488, 0.99171752, 0.9978204 ,\n",
              "        0.99869224, 0.98997384, 0.9956408 , 0.99738448, 0.99302528,\n",
              "        0.98997384, 0.98038361, 0.99215344, 0.99258936, 0.99258936,\n",
              "        0.99694856, 0.99825632, 0.99912816, 0.98997384, 0.9956408 ,\n",
              "        0.99738448, 0.99389712, 0.99258936, 0.99084568, 0.99476896,\n",
              "        0.99389712, 0.99389712, 0.99738448, 0.99869224, 0.99825632,\n",
              "        0.98997384, 0.9956408 , 0.99738448]),\n",
              " 'mean_test_score': array([0.98669011, 0.98788661, 0.98799787, 0.98746157, 0.98692873,\n",
              "        0.98735259, 0.98643912, 0.98617612, 0.98671642, 0.98471495,\n",
              "        0.98786958, 0.98938552, 0.98750315, 0.98595784, 0.98447423,\n",
              "        0.98727026, 0.98756031, 0.98950237, 0.98680769, 0.98888573,\n",
              "        0.98980314, 0.98450559, 0.98808987, 0.98939184, 0.97712411,\n",
              "        0.98007522, 0.97822083, 0.98554616, 0.9855513 , 0.98485297,\n",
              "        0.98725572, 0.98919432, 0.98812465, 0.98450559, 0.98808987,\n",
              "        0.98939184, 0.98061661, 0.98080936, 0.98125561, 0.98178373,\n",
              "        0.98593071, 0.98647561, 0.98773834, 0.98946536, 0.98806242,\n",
              "        0.98450559, 0.98808987, 0.98939184]),\n",
              " 'std_test_score': array([0.00266418, 0.00521865, 0.00567616, 0.00327238, 0.00539815,\n",
              "        0.00555962, 0.00467018, 0.00752854, 0.00742288, 0.00426713,\n",
              "        0.00616197, 0.00655814, 0.00194157, 0.00598852, 0.01110398,\n",
              "        0.00153785, 0.0042172 , 0.00349985, 0.00295054, 0.0055608 ,\n",
              "        0.00567989, 0.0049969 , 0.00603058, 0.00690805, 0.01294515,\n",
              "        0.01009323, 0.00843538, 0.00494358, 0.0049583 , 0.00539534,\n",
              "        0.005614  , 0.00532467, 0.00639327, 0.0049969 , 0.00603058,\n",
              "        0.00690805, 0.01130468, 0.00713825, 0.00674946, 0.01311569,\n",
              "        0.00555115, 0.0048255 , 0.00561427, 0.00533213, 0.00593418,\n",
              "        0.0049969 , 0.00603058, 0.00690805]),\n",
              " 'rank_test_score': array([28, 16, 15, 21, 25, 22, 30, 31, 27, 37, 17,  7, 20, 32, 41, 23, 19,\n",
              "         2, 26,  9,  1, 38, 11,  4, 48, 46, 47, 35, 34, 36, 24,  8, 10, 38,\n",
              "        11,  4, 45, 44, 43, 42, 33, 29, 18,  3, 14, 38, 11,  4],\n",
              "       dtype=int32),\n",
              " 'split0_train_score': array([1.        , 1.        , 1.        , 1.        , 1.        ,\n",
              "        1.        , 0.99947197, 1.        , 1.        , 0.99889593,\n",
              "        1.        , 1.        , 1.        , 1.        , 1.        ,\n",
              "        1.        , 1.        , 1.        , 1.        , 1.        ,\n",
              "        1.        , 0.99908794, 1.        , 1.        , 1.        ,\n",
              "        1.        , 1.        , 1.        , 1.        , 1.        ,\n",
              "        1.        , 1.        , 1.        , 0.99908794, 1.        ,\n",
              "        1.        , 1.        , 1.        , 1.        , 1.        ,\n",
              "        1.        , 1.        , 1.        , 1.        , 1.        ,\n",
              "        0.99908794, 1.        , 1.        ]),\n",
              " 'split1_train_score': array([1.        , 1.        , 1.        , 1.        , 1.        ,\n",
              "        1.        , 1.        , 1.        , 1.        , 0.99874741,\n",
              "        1.        , 1.        , 1.        , 1.        , 1.        ,\n",
              "        1.        , 1.        , 1.        , 1.        , 1.        ,\n",
              "        1.        , 0.99879559, 1.        , 1.        , 1.        ,\n",
              "        1.        , 1.        , 1.        , 1.        , 1.        ,\n",
              "        1.        , 1.        , 1.        , 0.99879559, 1.        ,\n",
              "        1.        , 1.        , 1.        , 1.        , 1.        ,\n",
              "        1.        , 1.        , 1.        , 1.        , 1.        ,\n",
              "        0.99879559, 1.        , 1.        ]),\n",
              " 'split2_train_score': array([1.        , 1.        , 1.        , 1.        , 1.        ,\n",
              "        1.        , 0.99990451, 1.        , 1.        , 0.99777979,\n",
              "        1.        , 1.        , 1.        , 1.        , 1.        ,\n",
              "        1.        , 1.        , 1.        , 1.        , 1.        ,\n",
              "        1.        , 0.99777979, 1.        , 1.        , 1.        ,\n",
              "        1.        , 1.        , 1.        , 1.        , 1.        ,\n",
              "        1.        , 1.        , 1.        , 0.99777979, 1.        ,\n",
              "        1.        , 1.        , 1.        , 1.        , 1.        ,\n",
              "        1.        , 1.        , 1.        , 1.        , 1.        ,\n",
              "        0.99777979, 1.        , 1.        ]),\n",
              " 'split3_train_score': array([1.        , 1.        , 1.        , 1.        , 1.        ,\n",
              "        1.        , 0.99947479, 1.        , 1.        , 0.99692036,\n",
              "        0.99990451, 1.        , 1.        , 1.        , 1.        ,\n",
              "        1.        , 1.        , 1.        , 1.        , 1.        ,\n",
              "        1.        , 0.99713522, 1.        , 1.        , 1.        ,\n",
              "        1.        , 1.        , 1.        , 1.        , 1.        ,\n",
              "        1.        , 1.        , 1.        , 0.99713522, 1.        ,\n",
              "        1.        , 1.        , 1.        , 1.        , 1.        ,\n",
              "        1.        , 1.        , 1.        , 1.        , 1.        ,\n",
              "        0.99713522, 1.        , 1.        ]),\n",
              " 'mean_train_score': array([1.        , 1.        , 1.        , 1.        , 1.        ,\n",
              "        1.        , 0.99971282, 1.        , 1.        , 0.99808587,\n",
              "        0.99997613, 1.        , 1.        , 1.        , 1.        ,\n",
              "        1.        , 1.        , 1.        , 1.        , 1.        ,\n",
              "        1.        , 0.99819964, 1.        , 1.        , 1.        ,\n",
              "        1.        , 1.        , 1.        , 1.        , 1.        ,\n",
              "        1.        , 1.        , 1.        , 0.99819964, 1.        ,\n",
              "        1.        , 1.        , 1.        , 1.        , 1.        ,\n",
              "        1.        , 1.        , 1.        , 1.        , 1.        ,\n",
              "        0.99819964, 1.        , 1.        ]),\n",
              " 'std_train_score': array([0.00000000e+00, 5.55111512e-17, 0.00000000e+00, 0.00000000e+00,\n",
              "        7.85046229e-17, 5.55111512e-17, 2.41808410e-04, 5.55111512e-17,\n",
              "        5.55111512e-17, 7.97798601e-04, 4.13495705e-05, 0.00000000e+00,\n",
              "        0.00000000e+00, 0.00000000e+00, 0.00000000e+00, 0.00000000e+00,\n",
              "        9.61481343e-17, 0.00000000e+00, 0.00000000e+00, 0.00000000e+00,\n",
              "        0.00000000e+00, 7.83182341e-04, 0.00000000e+00, 0.00000000e+00,\n",
              "        5.55111512e-17, 0.00000000e+00, 5.55111512e-17, 0.00000000e+00,\n",
              "        5.55111512e-17, 7.85046229e-17, 0.00000000e+00, 0.00000000e+00,\n",
              "        0.00000000e+00, 7.83182341e-04, 0.00000000e+00, 0.00000000e+00,\n",
              "        0.00000000e+00, 0.00000000e+00, 0.00000000e+00, 0.00000000e+00,\n",
              "        5.55111512e-17, 5.55111512e-17, 5.55111512e-17, 5.55111512e-17,\n",
              "        0.00000000e+00, 7.83182341e-04, 0.00000000e+00, 0.00000000e+00])}"
            ]
          },
          "metadata": {},
          "execution_count": 32
        }
      ]
    },
    {
      "cell_type": "code",
      "metadata": {
        "id": "3V9YzOaxvyUs",
        "colab": {
          "base_uri": "https://localhost:8080/",
          "height": 473
        },
        "outputId": "1f0770fd-2298-4e43-d283-a1b340625b00"
      },
      "source": [
        "# podemos obtener todos los resultados\n",
        "results = (pd.DataFrame(grid_gbm_search.cv_results_)\n",
        "            #  .sort_values(by='mean_test_score', \n",
        "            #               ascending=False)\n",
        "            #  .reset_index(drop=True)\n",
        "             )\n",
        "\n",
        "results\n"
      ],
      "execution_count": null,
      "outputs": [
        {
          "output_type": "execute_result",
          "data": {
            "text/plain": [
              "   mean_fit_time  std_fit_time  mean_score_time  std_score_time  \\\n",
              "0       0.168318      0.006654         0.005431        0.000153   \n",
              "1       0.295114      0.002883         0.005436        0.000069   \n",
              "2       0.453422      0.011882         0.007039        0.002134   \n",
              "3       0.152428      0.009822         0.005298        0.000069   \n",
              "4       0.287839      0.002439         0.005416        0.000052   \n",
              "\n",
              "  param_max_depth param_min_samples_split param_n_estimators  \\\n",
              "0               2                     0.1                 50   \n",
              "1               2                     0.1                100   \n",
              "2               2                     0.1                150   \n",
              "3               2                     0.3                 50   \n",
              "4               2                     0.3                100   \n",
              "\n",
              "                                              params  split0_test_score  \\\n",
              "0  {'max_depth': 2, 'min_samples_split': 0.1, 'n_...           0.986486   \n",
              "1  {'max_depth': 2, 'min_samples_split': 0.1, 'n_...           0.985628   \n",
              "2  {'max_depth': 2, 'min_samples_split': 0.1, 'n_...           0.986486   \n",
              "3  {'max_depth': 2, 'min_samples_split': 0.3, 'n_...           0.986486   \n",
              "4  {'max_depth': 2, 'min_samples_split': 0.3, 'n_...           0.985628   \n",
              "\n",
              "   split1_test_score  ...  split3_test_score  mean_test_score  std_test_score  \\\n",
              "0           0.985993  ...           0.990846         0.986690        0.002664   \n",
              "1           0.986842  ...           0.996513         0.987887        0.005219   \n",
              "2           0.985993  ...           0.997384         0.987998        0.005676   \n",
              "3           0.984720  ...           0.993025         0.987462        0.003272   \n",
              "4           0.983447  ...           0.996077         0.986929        0.005398   \n",
              "\n",
              "   rank_test_score  split0_train_score  split1_train_score  \\\n",
              "0               28                 1.0                 1.0   \n",
              "1               16                 1.0                 1.0   \n",
              "2               15                 1.0                 1.0   \n",
              "3               21                 1.0                 1.0   \n",
              "4               25                 1.0                 1.0   \n",
              "\n",
              "   split2_train_score  split3_train_score  mean_train_score  std_train_score  \n",
              "0                 1.0                 1.0               1.0     0.000000e+00  \n",
              "1                 1.0                 1.0               1.0     5.551115e-17  \n",
              "2                 1.0                 1.0               1.0     0.000000e+00  \n",
              "3                 1.0                 1.0               1.0     0.000000e+00  \n",
              "4                 1.0                 1.0               1.0     7.850462e-17  \n",
              "\n",
              "[5 rows x 21 columns]"
            ],
            "text/html": [
              "\n",
              "  <div id=\"df-521d32fa-cf6f-4f0b-bc6a-268c79ebab9e\">\n",
              "    <div class=\"colab-df-container\">\n",
              "      <div>\n",
              "<style scoped>\n",
              "    .dataframe tbody tr th:only-of-type {\n",
              "        vertical-align: middle;\n",
              "    }\n",
              "\n",
              "    .dataframe tbody tr th {\n",
              "        vertical-align: top;\n",
              "    }\n",
              "\n",
              "    .dataframe thead th {\n",
              "        text-align: right;\n",
              "    }\n",
              "</style>\n",
              "<table border=\"1\" class=\"dataframe\">\n",
              "  <thead>\n",
              "    <tr style=\"text-align: right;\">\n",
              "      <th></th>\n",
              "      <th>mean_fit_time</th>\n",
              "      <th>std_fit_time</th>\n",
              "      <th>mean_score_time</th>\n",
              "      <th>std_score_time</th>\n",
              "      <th>param_max_depth</th>\n",
              "      <th>param_min_samples_split</th>\n",
              "      <th>param_n_estimators</th>\n",
              "      <th>params</th>\n",
              "      <th>split0_test_score</th>\n",
              "      <th>split1_test_score</th>\n",
              "      <th>...</th>\n",
              "      <th>split3_test_score</th>\n",
              "      <th>mean_test_score</th>\n",
              "      <th>std_test_score</th>\n",
              "      <th>rank_test_score</th>\n",
              "      <th>split0_train_score</th>\n",
              "      <th>split1_train_score</th>\n",
              "      <th>split2_train_score</th>\n",
              "      <th>split3_train_score</th>\n",
              "      <th>mean_train_score</th>\n",
              "      <th>std_train_score</th>\n",
              "    </tr>\n",
              "  </thead>\n",
              "  <tbody>\n",
              "    <tr>\n",
              "      <th>0</th>\n",
              "      <td>0.168318</td>\n",
              "      <td>0.006654</td>\n",
              "      <td>0.005431</td>\n",
              "      <td>0.000153</td>\n",
              "      <td>2</td>\n",
              "      <td>0.1</td>\n",
              "      <td>50</td>\n",
              "      <td>{'max_depth': 2, 'min_samples_split': 0.1, 'n_...</td>\n",
              "      <td>0.986486</td>\n",
              "      <td>0.985993</td>\n",
              "      <td>...</td>\n",
              "      <td>0.990846</td>\n",
              "      <td>0.986690</td>\n",
              "      <td>0.002664</td>\n",
              "      <td>28</td>\n",
              "      <td>1.0</td>\n",
              "      <td>1.0</td>\n",
              "      <td>1.0</td>\n",
              "      <td>1.0</td>\n",
              "      <td>1.0</td>\n",
              "      <td>0.000000e+00</td>\n",
              "    </tr>\n",
              "    <tr>\n",
              "      <th>1</th>\n",
              "      <td>0.295114</td>\n",
              "      <td>0.002883</td>\n",
              "      <td>0.005436</td>\n",
              "      <td>0.000069</td>\n",
              "      <td>2</td>\n",
              "      <td>0.1</td>\n",
              "      <td>100</td>\n",
              "      <td>{'max_depth': 2, 'min_samples_split': 0.1, 'n_...</td>\n",
              "      <td>0.985628</td>\n",
              "      <td>0.986842</td>\n",
              "      <td>...</td>\n",
              "      <td>0.996513</td>\n",
              "      <td>0.987887</td>\n",
              "      <td>0.005219</td>\n",
              "      <td>16</td>\n",
              "      <td>1.0</td>\n",
              "      <td>1.0</td>\n",
              "      <td>1.0</td>\n",
              "      <td>1.0</td>\n",
              "      <td>1.0</td>\n",
              "      <td>5.551115e-17</td>\n",
              "    </tr>\n",
              "    <tr>\n",
              "      <th>2</th>\n",
              "      <td>0.453422</td>\n",
              "      <td>0.011882</td>\n",
              "      <td>0.007039</td>\n",
              "      <td>0.002134</td>\n",
              "      <td>2</td>\n",
              "      <td>0.1</td>\n",
              "      <td>150</td>\n",
              "      <td>{'max_depth': 2, 'min_samples_split': 0.1, 'n_...</td>\n",
              "      <td>0.986486</td>\n",
              "      <td>0.985993</td>\n",
              "      <td>...</td>\n",
              "      <td>0.997384</td>\n",
              "      <td>0.987998</td>\n",
              "      <td>0.005676</td>\n",
              "      <td>15</td>\n",
              "      <td>1.0</td>\n",
              "      <td>1.0</td>\n",
              "      <td>1.0</td>\n",
              "      <td>1.0</td>\n",
              "      <td>1.0</td>\n",
              "      <td>0.000000e+00</td>\n",
              "    </tr>\n",
              "    <tr>\n",
              "      <th>3</th>\n",
              "      <td>0.152428</td>\n",
              "      <td>0.009822</td>\n",
              "      <td>0.005298</td>\n",
              "      <td>0.000069</td>\n",
              "      <td>2</td>\n",
              "      <td>0.3</td>\n",
              "      <td>50</td>\n",
              "      <td>{'max_depth': 2, 'min_samples_split': 0.3, 'n_...</td>\n",
              "      <td>0.986486</td>\n",
              "      <td>0.984720</td>\n",
              "      <td>...</td>\n",
              "      <td>0.993025</td>\n",
              "      <td>0.987462</td>\n",
              "      <td>0.003272</td>\n",
              "      <td>21</td>\n",
              "      <td>1.0</td>\n",
              "      <td>1.0</td>\n",
              "      <td>1.0</td>\n",
              "      <td>1.0</td>\n",
              "      <td>1.0</td>\n",
              "      <td>0.000000e+00</td>\n",
              "    </tr>\n",
              "    <tr>\n",
              "      <th>4</th>\n",
              "      <td>0.287839</td>\n",
              "      <td>0.002439</td>\n",
              "      <td>0.005416</td>\n",
              "      <td>0.000052</td>\n",
              "      <td>2</td>\n",
              "      <td>0.3</td>\n",
              "      <td>100</td>\n",
              "      <td>{'max_depth': 2, 'min_samples_split': 0.3, 'n_...</td>\n",
              "      <td>0.985628</td>\n",
              "      <td>0.983447</td>\n",
              "      <td>...</td>\n",
              "      <td>0.996077</td>\n",
              "      <td>0.986929</td>\n",
              "      <td>0.005398</td>\n",
              "      <td>25</td>\n",
              "      <td>1.0</td>\n",
              "      <td>1.0</td>\n",
              "      <td>1.0</td>\n",
              "      <td>1.0</td>\n",
              "      <td>1.0</td>\n",
              "      <td>7.850462e-17</td>\n",
              "    </tr>\n",
              "  </tbody>\n",
              "</table>\n",
              "<p>5 rows × 21 columns</p>\n",
              "</div>\n",
              "      <button class=\"colab-df-convert\" onclick=\"convertToInteractive('df-521d32fa-cf6f-4f0b-bc6a-268c79ebab9e')\"\n",
              "              title=\"Convert this dataframe to an interactive table.\"\n",
              "              style=\"display:none;\">\n",
              "        \n",
              "  <svg xmlns=\"http://www.w3.org/2000/svg\" height=\"24px\"viewBox=\"0 0 24 24\"\n",
              "       width=\"24px\">\n",
              "    <path d=\"M0 0h24v24H0V0z\" fill=\"none\"/>\n",
              "    <path d=\"M18.56 5.44l.94 2.06.94-2.06 2.06-.94-2.06-.94-.94-2.06-.94 2.06-2.06.94zm-11 1L8.5 8.5l.94-2.06 2.06-.94-2.06-.94L8.5 2.5l-.94 2.06-2.06.94zm10 10l.94 2.06.94-2.06 2.06-.94-2.06-.94-.94-2.06-.94 2.06-2.06.94z\"/><path d=\"M17.41 7.96l-1.37-1.37c-.4-.4-.92-.59-1.43-.59-.52 0-1.04.2-1.43.59L10.3 9.45l-7.72 7.72c-.78.78-.78 2.05 0 2.83L4 21.41c.39.39.9.59 1.41.59.51 0 1.02-.2 1.41-.59l7.78-7.78 2.81-2.81c.8-.78.8-2.07 0-2.86zM5.41 20L4 18.59l7.72-7.72 1.47 1.35L5.41 20z\"/>\n",
              "  </svg>\n",
              "      </button>\n",
              "      \n",
              "  <style>\n",
              "    .colab-df-container {\n",
              "      display:flex;\n",
              "      flex-wrap:wrap;\n",
              "      gap: 12px;\n",
              "    }\n",
              "\n",
              "    .colab-df-convert {\n",
              "      background-color: #E8F0FE;\n",
              "      border: none;\n",
              "      border-radius: 50%;\n",
              "      cursor: pointer;\n",
              "      display: none;\n",
              "      fill: #1967D2;\n",
              "      height: 32px;\n",
              "      padding: 0 0 0 0;\n",
              "      width: 32px;\n",
              "    }\n",
              "\n",
              "    .colab-df-convert:hover {\n",
              "      background-color: #E2EBFA;\n",
              "      box-shadow: 0px 1px 2px rgba(60, 64, 67, 0.3), 0px 1px 3px 1px rgba(60, 64, 67, 0.15);\n",
              "      fill: #174EA6;\n",
              "    }\n",
              "\n",
              "    [theme=dark] .colab-df-convert {\n",
              "      background-color: #3B4455;\n",
              "      fill: #D2E3FC;\n",
              "    }\n",
              "\n",
              "    [theme=dark] .colab-df-convert:hover {\n",
              "      background-color: #434B5C;\n",
              "      box-shadow: 0px 1px 3px 1px rgba(0, 0, 0, 0.15);\n",
              "      filter: drop-shadow(0px 1px 2px rgba(0, 0, 0, 0.3));\n",
              "      fill: #FFFFFF;\n",
              "    }\n",
              "  </style>\n",
              "\n",
              "      <script>\n",
              "        const buttonEl =\n",
              "          document.querySelector('#df-521d32fa-cf6f-4f0b-bc6a-268c79ebab9e button.colab-df-convert');\n",
              "        buttonEl.style.display =\n",
              "          google.colab.kernel.accessAllowed ? 'block' : 'none';\n",
              "\n",
              "        async function convertToInteractive(key) {\n",
              "          const element = document.querySelector('#df-521d32fa-cf6f-4f0b-bc6a-268c79ebab9e');\n",
              "          const dataTable =\n",
              "            await google.colab.kernel.invokeFunction('convertToInteractive',\n",
              "                                                     [key], {});\n",
              "          if (!dataTable) return;\n",
              "\n",
              "          const docLinkHtml = 'Like what you see? Visit the ' +\n",
              "            '<a target=\"_blank\" href=https://colab.research.google.com/notebooks/data_table.ipynb>data table notebook</a>'\n",
              "            + ' to learn more about interactive tables.';\n",
              "          element.innerHTML = '';\n",
              "          dataTable['output_type'] = 'display_data';\n",
              "          await google.colab.output.renderOutput(dataTable, element);\n",
              "          const docLink = document.createElement('div');\n",
              "          docLink.innerHTML = docLinkHtml;\n",
              "          element.appendChild(docLink);\n",
              "        }\n",
              "      </script>\n",
              "    </div>\n",
              "  </div>\n",
              "  "
            ]
          },
          "metadata": {},
          "execution_count": 33
        }
      ]
    },
    {
      "cell_type": "code",
      "source": [
        "results[['mean_test_score','mean_train_score']].head()"
      ],
      "metadata": {
        "id": "ksnICS0gAFKf",
        "colab": {
          "base_uri": "https://localhost:8080/",
          "height": 206
        },
        "outputId": "5ef0ff58-12ea-4c13-8c10-a444aa8f7f1c"
      },
      "execution_count": null,
      "outputs": [
        {
          "output_type": "execute_result",
          "data": {
            "text/plain": [
              "   mean_test_score  mean_train_score\n",
              "0         0.986690               1.0\n",
              "1         0.987887               1.0\n",
              "2         0.987998               1.0\n",
              "3         0.987462               1.0\n",
              "4         0.986929               1.0"
            ],
            "text/html": [
              "\n",
              "  <div id=\"df-1693ed86-44d0-430d-9e0a-eb76f910f83b\">\n",
              "    <div class=\"colab-df-container\">\n",
              "      <div>\n",
              "<style scoped>\n",
              "    .dataframe tbody tr th:only-of-type {\n",
              "        vertical-align: middle;\n",
              "    }\n",
              "\n",
              "    .dataframe tbody tr th {\n",
              "        vertical-align: top;\n",
              "    }\n",
              "\n",
              "    .dataframe thead th {\n",
              "        text-align: right;\n",
              "    }\n",
              "</style>\n",
              "<table border=\"1\" class=\"dataframe\">\n",
              "  <thead>\n",
              "    <tr style=\"text-align: right;\">\n",
              "      <th></th>\n",
              "      <th>mean_test_score</th>\n",
              "      <th>mean_train_score</th>\n",
              "    </tr>\n",
              "  </thead>\n",
              "  <tbody>\n",
              "    <tr>\n",
              "      <th>0</th>\n",
              "      <td>0.986690</td>\n",
              "      <td>1.0</td>\n",
              "    </tr>\n",
              "    <tr>\n",
              "      <th>1</th>\n",
              "      <td>0.987887</td>\n",
              "      <td>1.0</td>\n",
              "    </tr>\n",
              "    <tr>\n",
              "      <th>2</th>\n",
              "      <td>0.987998</td>\n",
              "      <td>1.0</td>\n",
              "    </tr>\n",
              "    <tr>\n",
              "      <th>3</th>\n",
              "      <td>0.987462</td>\n",
              "      <td>1.0</td>\n",
              "    </tr>\n",
              "    <tr>\n",
              "      <th>4</th>\n",
              "      <td>0.986929</td>\n",
              "      <td>1.0</td>\n",
              "    </tr>\n",
              "  </tbody>\n",
              "</table>\n",
              "</div>\n",
              "      <button class=\"colab-df-convert\" onclick=\"convertToInteractive('df-1693ed86-44d0-430d-9e0a-eb76f910f83b')\"\n",
              "              title=\"Convert this dataframe to an interactive table.\"\n",
              "              style=\"display:none;\">\n",
              "        \n",
              "  <svg xmlns=\"http://www.w3.org/2000/svg\" height=\"24px\"viewBox=\"0 0 24 24\"\n",
              "       width=\"24px\">\n",
              "    <path d=\"M0 0h24v24H0V0z\" fill=\"none\"/>\n",
              "    <path d=\"M18.56 5.44l.94 2.06.94-2.06 2.06-.94-2.06-.94-.94-2.06-.94 2.06-2.06.94zm-11 1L8.5 8.5l.94-2.06 2.06-.94-2.06-.94L8.5 2.5l-.94 2.06-2.06.94zm10 10l.94 2.06.94-2.06 2.06-.94-2.06-.94-.94-2.06-.94 2.06-2.06.94z\"/><path d=\"M17.41 7.96l-1.37-1.37c-.4-.4-.92-.59-1.43-.59-.52 0-1.04.2-1.43.59L10.3 9.45l-7.72 7.72c-.78.78-.78 2.05 0 2.83L4 21.41c.39.39.9.59 1.41.59.51 0 1.02-.2 1.41-.59l7.78-7.78 2.81-2.81c.8-.78.8-2.07 0-2.86zM5.41 20L4 18.59l7.72-7.72 1.47 1.35L5.41 20z\"/>\n",
              "  </svg>\n",
              "      </button>\n",
              "      \n",
              "  <style>\n",
              "    .colab-df-container {\n",
              "      display:flex;\n",
              "      flex-wrap:wrap;\n",
              "      gap: 12px;\n",
              "    }\n",
              "\n",
              "    .colab-df-convert {\n",
              "      background-color: #E8F0FE;\n",
              "      border: none;\n",
              "      border-radius: 50%;\n",
              "      cursor: pointer;\n",
              "      display: none;\n",
              "      fill: #1967D2;\n",
              "      height: 32px;\n",
              "      padding: 0 0 0 0;\n",
              "      width: 32px;\n",
              "    }\n",
              "\n",
              "    .colab-df-convert:hover {\n",
              "      background-color: #E2EBFA;\n",
              "      box-shadow: 0px 1px 2px rgba(60, 64, 67, 0.3), 0px 1px 3px 1px rgba(60, 64, 67, 0.15);\n",
              "      fill: #174EA6;\n",
              "    }\n",
              "\n",
              "    [theme=dark] .colab-df-convert {\n",
              "      background-color: #3B4455;\n",
              "      fill: #D2E3FC;\n",
              "    }\n",
              "\n",
              "    [theme=dark] .colab-df-convert:hover {\n",
              "      background-color: #434B5C;\n",
              "      box-shadow: 0px 1px 3px 1px rgba(0, 0, 0, 0.15);\n",
              "      filter: drop-shadow(0px 1px 2px rgba(0, 0, 0, 0.3));\n",
              "      fill: #FFFFFF;\n",
              "    }\n",
              "  </style>\n",
              "\n",
              "      <script>\n",
              "        const buttonEl =\n",
              "          document.querySelector('#df-1693ed86-44d0-430d-9e0a-eb76f910f83b button.colab-df-convert');\n",
              "        buttonEl.style.display =\n",
              "          google.colab.kernel.accessAllowed ? 'block' : 'none';\n",
              "\n",
              "        async function convertToInteractive(key) {\n",
              "          const element = document.querySelector('#df-1693ed86-44d0-430d-9e0a-eb76f910f83b');\n",
              "          const dataTable =\n",
              "            await google.colab.kernel.invokeFunction('convertToInteractive',\n",
              "                                                     [key], {});\n",
              "          if (!dataTable) return;\n",
              "\n",
              "          const docLinkHtml = 'Like what you see? Visit the ' +\n",
              "            '<a target=\"_blank\" href=https://colab.research.google.com/notebooks/data_table.ipynb>data table notebook</a>'\n",
              "            + ' to learn more about interactive tables.';\n",
              "          element.innerHTML = '';\n",
              "          dataTable['output_type'] = 'display_data';\n",
              "          await google.colab.output.renderOutput(dataTable, element);\n",
              "          const docLink = document.createElement('div');\n",
              "          docLink.innerHTML = docLinkHtml;\n",
              "          element.appendChild(docLink);\n",
              "        }\n",
              "      </script>\n",
              "    </div>\n",
              "  </div>\n",
              "  "
            ]
          },
          "metadata": {},
          "execution_count": 38
        }
      ]
    },
    {
      "cell_type": "code",
      "source": [
        "print(results.mean_train_score.mean())\n",
        "print(results.mean_test_score.mean())"
      ],
      "metadata": {
        "id": "Nylp-wfjVtRT",
        "colab": {
          "base_uri": "https://localhost:8080/"
        },
        "outputId": "f3e51a4e-68de-4b43-ba03-2221092e183a"
      },
      "execution_count": null,
      "outputs": [
        {
          "output_type": "stream",
          "name": "stdout",
          "text": [
            "0.9998411191855808\n",
            "0.9861964342578998\n"
          ]
        }
      ]
    },
    {
      "cell_type": "code",
      "source": [],
      "metadata": {
        "id": "1fzdnLI3VtcD"
      },
      "execution_count": null,
      "outputs": []
    },
    {
      "cell_type": "code",
      "source": [
        "# Graficamos los resultados\n",
        "results['mean_test_score'].plot(yerr=[results['std_test_score'], results['std_test_score']], subplots=True)\n",
        "\n",
        "plt.ylabel('Mean test score')\n",
        "plt.xlabel('Combinaciones de hiperparametros')"
      ],
      "metadata": {
        "id": "1JjTp9HHAFXT",
        "colab": {
          "base_uri": "https://localhost:8080/",
          "height": 296
        },
        "outputId": "a0d55461-f46f-4f37-eed2-3c5ab13939c3"
      },
      "execution_count": null,
      "outputs": [
        {
          "output_type": "execute_result",
          "data": {
            "text/plain": [
              "Text(0.5, 0, 'Combinaciones de hiperparametros')"
            ]
          },
          "metadata": {},
          "execution_count": 40
        },
        {
          "output_type": "display_data",
          "data": {
            "text/plain": [
              "<Figure size 432x288 with 1 Axes>"
            ],
            "image/png": "[encoded data removed]"
          },
          "metadata": {
            "needs_background": "light"
          }
        }
      ]
    },
    {
      "cell_type": "markdown",
      "metadata": {
        "id": "IWFLyrUDzYR9"
      },
      "source": [
        "## __`RandomizedSearchCV`__"
      ]
    },
    {
      "cell_type": "markdown",
      "source": [
        "Referecnias:\n",
        "\n",
        "1. [Randomized search on hyper parameters](https://scikit-learn.org/stable/modules/generated/sklearn.model_selection.RandomizedSearchCV.html)\n",
        "2. [Randomized Parameter Optimization](https://scikit-learn.org/stable/modules/grid_search.html#randomized-parameter-optimization)"
      ],
      "metadata": {
        "id": "xmS7Xjey-34Z"
      }
    },
    {
      "cell_type": "code",
      "metadata": {
        "id": "x8Llyayfv7w8"
      },
      "source": [
        "from sklearn.model_selection import RandomizedSearchCV"
      ],
      "execution_count": null,
      "outputs": []
    },
    {
      "cell_type": "code",
      "source": [
        "# Partimos los datos\n",
        "X_train, X_test, y_train, y_test = train_test_split(\n",
        "    X, y, test_size=0.3, random_state=0)"
      ],
      "metadata": {
        "id": "aAjqLuKtBr3y"
      },
      "execution_count": null,
      "outputs": []
    },
    {
      "cell_type": "code",
      "source": [],
      "metadata": {
        "id": "xhdDxfE88RBo"
      },
      "execution_count": null,
      "outputs": []
    },
    {
      "cell_type": "markdown",
      "source": [
        "__`RandomizedSearchCV`__ toma muestras de los rangos seleccionados en el __param grid__, para esta tarea podemos usar:"
      ],
      "metadata": {
        "id": "e8E7ik2r8Rss"
      }
    },
    {
      "cell_type": "markdown",
      "source": [
        "* `stats.randint(i, n)` para tomar una muestra de enteros en el intervalo (i, n) \n",
        "* `stats.uniform(a, b)` para tomar una muestra de los reales en el intervalo (a, b) \n",
        "* `(class_01, class_02, class_03, class_04)` para seleccionar alguna de las clases"
      ],
      "metadata": {
        "id": "x07Pa7AD9BBw"
      }
    },
    {
      "cell_type": "code",
      "source": [
        "# # instanciamos un gbm\n",
        "gbm = GradientBoostingClassifier(random_state=0)"
      ],
      "metadata": {
        "id": "cvTT8tBkF6pd"
      },
      "execution_count": null,
      "outputs": []
    },
    {
      "cell_type": "code",
      "source": [],
      "metadata": {
        "id": "bkK6v5GTXsFa"
      },
      "execution_count": null,
      "outputs": []
    },
    {
      "cell_type": "code",
      "source": [
        "# Creamos el espacio de hiperparametros\n",
        "param_grid = dict(\n",
        "    n_estimators=stats.randint(50, 150),\n",
        "    min_samples_split=stats.uniform(.1, .7),\n",
        "    max_depth=stats.randint(2, 15)\n",
        "    )"
      ],
      "metadata": {
        "id": "2NBhylfuClXh"
      },
      "execution_count": null,
      "outputs": []
    },
    {
      "cell_type": "code",
      "source": [],
      "metadata": {
        "id": "4A7QQyuVHWm6"
      },
      "execution_count": null,
      "outputs": []
    },
    {
      "cell_type": "markdown",
      "source": [
        "Con el parametro `n_iter` indicamos cuantos ajustes deseamos que sean realizados"
      ],
      "metadata": {
        "id": "7NGlvX1UCmQ-"
      }
    },
    {
      "cell_type": "code",
      "metadata": {
        "id": "uj2wQUBNv7t_"
      },
      "source": [
        "# Create el objeto RandomizedSearchCV\n",
        "rand_gbm_search = RandomizedSearchCV(gbm,\n",
        "                                     param_grid,\n",
        "                                     scoring='roc_auc',\n",
        "                                     cv=4,\n",
        "                                     n_iter = 40, # Con este argumento indicamos cuantas muestras queremos que sean tomadas (arriba de 40 es un bune numero)\n",
        "                                     random_state=10,\n",
        "                                     n_jobs=-1,\n",
        "                                     refit=True)"
      ],
      "execution_count": null,
      "outputs": []
    },
    {
      "cell_type": "code",
      "metadata": {
        "id": "5871H88Hv7zZ",
        "colab": {
          "base_uri": "https://localhost:8080/"
        },
        "outputId": "7434c4f2-5ebd-4d42-a5a6-9b9958cf9861"
      },
      "source": [
        "%%time\n",
        "rand_gbm_search.fit(X_train, y_train)"
      ],
      "execution_count": null,
      "outputs": [
        {
          "output_type": "stream",
          "name": "stdout",
          "text": [
            "CPU times: user 1.06 s, sys: 37 ms, total: 1.09 s\n",
            "Wall time: 25.9 s\n"
          ]
        },
        {
          "output_type": "execute_result",
          "data": {
            "text/plain": [
              "RandomizedSearchCV(cv=4, estimator=GradientBoostingClassifier(random_state=0),\n",
              "                   n_iter=40, n_jobs=-1,\n",
              "                   param_distributions={'max_depth': <scipy.stats._distn_infrastructure.rv_frozen object at 0x7f642da38fd0>,\n",
              "                                        'min_samples_split': <scipy.stats._distn_infrastructure.rv_frozen object at 0x7f642da37550>,\n",
              "                                        'n_estimators': <scipy.stats._distn_infrastructure.rv_frozen object at 0x7f642dece6d0>},\n",
              "                   random_state=10, scoring='roc_auc')"
            ]
          },
          "metadata": {},
          "execution_count": 47
        }
      ]
    },
    {
      "cell_type": "code",
      "source": [
        "# Usamos random_rf para generar predicciones\n",
        "y_pred = rand_gbm_search.predict(X_test)"
      ],
      "metadata": {
        "id": "1gipERg_J-Wk"
      },
      "execution_count": null,
      "outputs": []
    },
    {
      "cell_type": "code",
      "source": [
        "print(classification_report(y_test, y_pred))\n",
        "print('-'*30)\n",
        "print(roc_auc_score(y_test, y_pred))"
      ],
      "metadata": {
        "id": "axXBKwBZKM6i",
        "colab": {
          "base_uri": "https://localhost:8080/"
        },
        "outputId": "bdcb1c19-7ea8-48fe-d054-6f1fe18489cd"
      },
      "execution_count": null,
      "outputs": [
        {
          "output_type": "stream",
          "name": "stdout",
          "text": [
            "              precision    recall  f1-score   support\n",
            "\n",
            "           0       0.98      0.99      0.99       108\n",
            "           1       0.98      0.97      0.98        63\n",
            "\n",
            "    accuracy                           0.98       171\n",
            "   macro avg       0.98      0.98      0.98       171\n",
            "weighted avg       0.98      0.98      0.98       171\n",
            "\n",
            "------------------------------\n",
            "0.9794973544973545\n"
          ]
        }
      ]
    },
    {
      "cell_type": "code",
      "metadata": {
        "id": "8PdT-mRY0BTF",
        "colab": {
          "base_uri": "https://localhost:8080/"
        },
        "outputId": "b19e650b-4cce-4f28-e89d-a25ec8cb0f58"
      },
      "source": [
        "print(rand_gbm_search.best_params_)"
      ],
      "execution_count": null,
      "outputs": [
        {
          "output_type": "stream",
          "name": "stdout",
          "text": [
            "{'max_depth': 5, 'min_samples_split': 0.36420846531236595, 'n_estimators': 112}\n"
          ]
        }
      ]
    },
    {
      "cell_type": "code",
      "source": [
        "results = (pd.DataFrame(rand_gbm_search.cv_results_)\n",
        "             .sort_values(by='mean_test_score', ascending=False)\n",
        "             .reset_index(drop=True))"
      ],
      "metadata": {
        "id": "q9RJg30iGl1l"
      },
      "execution_count": null,
      "outputs": []
    },
    {
      "cell_type": "code",
      "source": [
        "(results\n",
        " .loc[:,['param_max_depth', \n",
        "         'param_min_samples_split', \n",
        "         'param_n_estimators',\n",
        "         'mean_test_score', \n",
        "         'std_test_score',]]\n",
        " .head(3))"
      ],
      "metadata": {
        "id": "Twd99I-6HBly",
        "colab": {
          "base_uri": "https://localhost:8080/",
          "height": 143
        },
        "outputId": "3290e112-de9e-4f5e-e3aa-fafb765a0385"
      },
      "execution_count": null,
      "outputs": [
        {
          "output_type": "execute_result",
          "data": {
            "text/plain": [
              "  param_max_depth param_min_samples_split param_n_estimators  mean_test_score  \\\n",
              "0               5                0.364208                112         0.990586   \n",
              "1               3                0.742442                127         0.989603   \n",
              "2               5                0.127971                 67         0.989499   \n",
              "\n",
              "   std_test_score  \n",
              "0        0.004564  \n",
              "1        0.006588  \n",
              "2        0.002226  "
            ],
            "text/html": [
              "\n",
              "  <div id=\"df-2b8f0c82-028b-4af1-a9c9-3342bf2e4faf\">\n",
              "    <div class=\"colab-df-container\">\n",
              "      <div>\n",
              "<style scoped>\n",
              "    .dataframe tbody tr th:only-of-type {\n",
              "        vertical-align: middle;\n",
              "    }\n",
              "\n",
              "    .dataframe tbody tr th {\n",
              "        vertical-align: top;\n",
              "    }\n",
              "\n",
              "    .dataframe thead th {\n",
              "        text-align: right;\n",
              "    }\n",
              "</style>\n",
              "<table border=\"1\" class=\"dataframe\">\n",
              "  <thead>\n",
              "    <tr style=\"text-align: right;\">\n",
              "      <th></th>\n",
              "      <th>param_max_depth</th>\n",
              "      <th>param_min_samples_split</th>\n",
              "      <th>param_n_estimators</th>\n",
              "      <th>mean_test_score</th>\n",
              "      <th>std_test_score</th>\n",
              "    </tr>\n",
              "  </thead>\n",
              "  <tbody>\n",
              "    <tr>\n",
              "      <th>0</th>\n",
              "      <td>5</td>\n",
              "      <td>0.364208</td>\n",
              "      <td>112</td>\n",
              "      <td>0.990586</td>\n",
              "      <td>0.004564</td>\n",
              "    </tr>\n",
              "    <tr>\n",
              "      <th>1</th>\n",
              "      <td>3</td>\n",
              "      <td>0.742442</td>\n",
              "      <td>127</td>\n",
              "      <td>0.989603</td>\n",
              "      <td>0.006588</td>\n",
              "    </tr>\n",
              "    <tr>\n",
              "      <th>2</th>\n",
              "      <td>5</td>\n",
              "      <td>0.127971</td>\n",
              "      <td>67</td>\n",
              "      <td>0.989499</td>\n",
              "      <td>0.002226</td>\n",
              "    </tr>\n",
              "  </tbody>\n",
              "</table>\n",
              "</div>\n",
              "      <button class=\"colab-df-convert\" onclick=\"convertToInteractive('df-2b8f0c82-028b-4af1-a9c9-3342bf2e4faf')\"\n",
              "              title=\"Convert this dataframe to an interactive table.\"\n",
              "              style=\"display:none;\">\n",
              "        \n",
              "  <svg xmlns=\"http://www.w3.org/2000/svg\" height=\"24px\"viewBox=\"0 0 24 24\"\n",
              "       width=\"24px\">\n",
              "    <path d=\"M0 0h24v24H0V0z\" fill=\"none\"/>\n",
              "    <path d=\"M18.56 5.44l.94 2.06.94-2.06 2.06-.94-2.06-.94-.94-2.06-.94 2.06-2.06.94zm-11 1L8.5 8.5l.94-2.06 2.06-.94-2.06-.94L8.5 2.5l-.94 2.06-2.06.94zm10 10l.94 2.06.94-2.06 2.06-.94-2.06-.94-.94-2.06-.94 2.06-2.06.94z\"/><path d=\"M17.41 7.96l-1.37-1.37c-.4-.4-.92-.59-1.43-.59-.52 0-1.04.2-1.43.59L10.3 9.45l-7.72 7.72c-.78.78-.78 2.05 0 2.83L4 21.41c.39.39.9.59 1.41.59.51 0 1.02-.2 1.41-.59l7.78-7.78 2.81-2.81c.8-.78.8-2.07 0-2.86zM5.41 20L4 18.59l7.72-7.72 1.47 1.35L5.41 20z\"/>\n",
              "  </svg>\n",
              "      </button>\n",
              "      \n",
              "  <style>\n",
              "    .colab-df-container {\n",
              "      display:flex;\n",
              "      flex-wrap:wrap;\n",
              "      gap: 12px;\n",
              "    }\n",
              "\n",
              "    .colab-df-convert {\n",
              "      background-color: #E8F0FE;\n",
              "      border: none;\n",
              "      border-radius: 50%;\n",
              "      cursor: pointer;\n",
              "      display: none;\n",
              "      fill: #1967D2;\n",
              "      height: 32px;\n",
              "      padding: 0 0 0 0;\n",
              "      width: 32px;\n",
              "    }\n",
              "\n",
              "    .colab-df-convert:hover {\n",
              "      background-color: #E2EBFA;\n",
              "      box-shadow: 0px 1px 2px rgba(60, 64, 67, 0.3), 0px 1px 3px 1px rgba(60, 64, 67, 0.15);\n",
              "      fill: #174EA6;\n",
              "    }\n",
              "\n",
              "    [theme=dark] .colab-df-convert {\n",
              "      background-color: #3B4455;\n",
              "      fill: #D2E3FC;\n",
              "    }\n",
              "\n",
              "    [theme=dark] .colab-df-convert:hover {\n",
              "      background-color: #434B5C;\n",
              "      box-shadow: 0px 1px 3px 1px rgba(0, 0, 0, 0.15);\n",
              "      filter: drop-shadow(0px 1px 2px rgba(0, 0, 0, 0.3));\n",
              "      fill: #FFFFFF;\n",
              "    }\n",
              "  </style>\n",
              "\n",
              "      <script>\n",
              "        const buttonEl =\n",
              "          document.querySelector('#df-2b8f0c82-028b-4af1-a9c9-3342bf2e4faf button.colab-df-convert');\n",
              "        buttonEl.style.display =\n",
              "          google.colab.kernel.accessAllowed ? 'block' : 'none';\n",
              "\n",
              "        async function convertToInteractive(key) {\n",
              "          const element = document.querySelector('#df-2b8f0c82-028b-4af1-a9c9-3342bf2e4faf');\n",
              "          const dataTable =\n",
              "            await google.colab.kernel.invokeFunction('convertToInteractive',\n",
              "                                                     [key], {});\n",
              "          if (!dataTable) return;\n",
              "\n",
              "          const docLinkHtml = 'Like what you see? Visit the ' +\n",
              "            '<a target=\"_blank\" href=https://colab.research.google.com/notebooks/data_table.ipynb>data table notebook</a>'\n",
              "            + ' to learn more about interactive tables.';\n",
              "          element.innerHTML = '';\n",
              "          dataTable['output_type'] = 'display_data';\n",
              "          await google.colab.output.renderOutput(dataTable, element);\n",
              "          const docLink = document.createElement('div');\n",
              "          docLink.innerHTML = docLinkHtml;\n",
              "          element.appendChild(docLink);\n",
              "        }\n",
              "      </script>\n",
              "    </div>\n",
              "  </div>\n",
              "  "
            ]
          },
          "metadata": {},
          "execution_count": 52
        }
      ]
    },
    {
      "cell_type": "code",
      "source": [
        "# Graficamos el performance del modelo y el error\n",
        "results['mean_test_score'].plot(yerr=[results['std_test_score'], results['std_test_score']], subplots=True)\n",
        "\n",
        "plt.ylabel('Mean test score')\n",
        "plt.xlabel('Combinaciones de hiperparametros')"
      ],
      "metadata": {
        "id": "RgtGEvxRHlP4",
        "colab": {
          "base_uri": "https://localhost:8080/",
          "height": 296
        },
        "outputId": "1ac93e0e-e364-4d74-c53f-16b81b375653"
      },
      "execution_count": null,
      "outputs": [
        {
          "output_type": "execute_result",
          "data": {
            "text/plain": [
              "Text(0.5, 0, 'Combinaciones de hiperparametros')"
            ]
          },
          "metadata": {},
          "execution_count": 53
        },
        {
          "output_type": "display_data",
          "data": {
            "text/plain": [
              "<Figure size 432x288 with 1 Axes>"
            ],
            "image/png": "[encoded data removed]"
          },
          "metadata": {
            "needs_background": "light"
          }
        }
      ]
    },
    {
      "cell_type": "markdown",
      "source": [
        "## Métodos de optimización bayesiana"
      ],
      "metadata": {
        "id": "zQ3-0daDmkTK"
      }
    },
    {
      "cell_type": "markdown",
      "source": [
        "* [scikit opt](https://scikit-optimize.github.io/stable/)\n",
        "* [optuna](https://optuna.org/)\n",
        "* [hyperopt](https://github.com/hyperopt/hyperopt)"
      ],
      "metadata": {
        "id": "kE8_WjHImoS4"
      }
    },
    {
      "cell_type": "markdown",
      "source": [
        "### scikit opt"
      ],
      "metadata": {
        "id": "ODkBDAuiFo-o"
      }
    },
    {
      "cell_type": "code",
      "source": [
        "!pip install scikit-optimize"
      ],
      "metadata": {
        "id": "AW55V7F4B5hR",
        "colab": {
          "base_uri": "https://localhost:8080/"
        },
        "outputId": "07ffc6f5-c1f4-4d45-d4a4-b087830e0e41"
      },
      "execution_count": null,
      "outputs": [
        {
          "output_type": "stream",
          "name": "stdout",
          "text": [
            "Looking in indexes: https://pypi.org/simple, https://us-python.pkg.dev/colab-wheels/public/simple/\n",
            "Collecting scikit-optimize\n",
            "  Downloading scikit_optimize-0.9.0-py2.py3-none-any.whl (100 kB)\n",
            "\u001b[K     |████████████████████████████████| 100 kB 8.4 MB/s \n",
            "\u001b[?25hRequirement already satisfied: numpy>=1.13.3 in /usr/local/lib/python3.7/dist-packages (from scikit-optimize) (1.21.6)\n",
            "Requirement already satisfied: scikit-learn>=0.20.0 in /usr/local/lib/python3.7/dist-packages (from scikit-optimize) (1.0.2)\n",
            "Requirement already satisfied: joblib>=0.11 in /usr/local/lib/python3.7/dist-packages (from scikit-optimize) (1.1.0)\n",
            "Collecting pyaml>=16.9\n",
            "  Downloading pyaml-21.10.1-py2.py3-none-any.whl (24 kB)\n",
            "Requirement already satisfied: scipy>=0.19.1 in /usr/local/lib/python3.7/dist-packages (from scikit-optimize) (1.7.3)\n",
            "Requirement already satisfied: PyYAML in /usr/local/lib/python3.7/dist-packages (from pyaml>=16.9->scikit-optimize) (6.0)\n",
            "Requirement already satisfied: threadpoolctl>=2.0.0 in /usr/local/lib/python3.7/dist-packages (from scikit-learn>=0.20.0->scikit-optimize) (3.1.0)\n",
            "Installing collected packages: pyaml, scikit-optimize\n",
            "Successfully installed pyaml-21.10.1 scikit-optimize-0.9.0\n"
          ]
        }
      ]
    },
    {
      "cell_type": "markdown",
      "source": [
        "## Ejercicios"
      ],
      "metadata": {
        "id": "KOJwFzmSK892"
      }
    },
    {
      "cell_type": "markdown",
      "source": [
        "Considera los datos de `Heart_Attack.csv` y el siguiente preprocesamiento:"
      ],
      "metadata": {
        "id": "emjf27FeLJDS"
      }
    },
    {
      "cell_type": "code",
      "source": [
        "# Cargamos los datos\n",
        "breast_cancer_X, breast_cancer_y = load_breast_cancer(return_X_y=True)\n",
        "\n",
        "X = pd.DataFrame(breast_cancer_X)\n",
        "y = pd.Series(breast_cancer_y).map({0:1, 1:0})\n",
        "\n",
        "# Partimos en train y test"
      ],
      "metadata": {
        "id": "AocLUscPK8Oc"
      },
      "execution_count": null,
      "outputs": []
    },
    {
      "cell_type": "code",
      "source": [
        "X_train, X_test_val, y_train, y_test_val = train_test_split(X, y, \n",
        "                                                    test_size=0.3, \n",
        "                                                    random_state=0)"
      ],
      "metadata": {
        "id": "mqT7iTDcqQJO"
      },
      "execution_count": null,
      "outputs": []
    },
    {
      "cell_type": "code",
      "source": [
        "X_val, X_test, y_val, y_test = train_test_split(X_test_val, y_test_val,\n",
        "                                                test_size=0.3,\n",
        "                                                random_state=0)"
      ],
      "metadata": {
        "id": "MaYq75mPqYe6"
      },
      "execution_count": null,
      "outputs": []
    },
    {
      "cell_type": "markdown",
      "source": [
        "La idea es encontrar el mejor modelo y por cada modelo tunear sus hiperparametros, antes de empezar los ejercicios parte los datos en train y test, entrena todos los modelos con train y test usalo al final para evaluarlos todos"
      ],
      "metadata": {
        "id": "53jA7ppRHn0X"
      }
    },
    {
      "cell_type": "markdown",
      "source": [
        "### Ejercicio 01"
      ],
      "metadata": {
        "id": "HaIqTcV4LrMy"
      }
    },
    {
      "cell_type": "markdown",
      "source": [
        "Ajusta una __regresión logística__ y tunea sus hiperparametros con `.GridSearchCV/RandomizedSearchCV`"
      ],
      "metadata": {
        "id": "9Qf_hxtsLtfD"
      }
    },
    {
      "cell_type": "code",
      "source": [
        "# Respuesta\n",
        "lr=LogisticRegression(solver='liblinear',random_state=123,max_iter=10000)"
      ],
      "metadata": {
        "id": "YatckI6jr4Br"
      },
      "execution_count": null,
      "outputs": []
    },
    {
      "cell_type": "code",
      "source": [
        "param_grid=dict(penalty = ('l1','l2','elasticnet','none'),\n",
        "                C=stats.uniform(6,0.01))"
      ],
      "metadata": {
        "id": "2OdEY4Lgozov"
      },
      "execution_count": null,
      "outputs": []
    },
    {
      "cell_type": "code",
      "source": [
        "rand_lr_search= RandomizedSearchCV(lr,\n",
        "                                   param_grid,\n",
        "                                   scoring='roc_auc',\n",
        "                                   cv=3,\n",
        "                                   n_iter=20,\n",
        "                                   random_state=10,\n",
        "                                   n_jobs=-1,\n",
        "                                   refit=True)    "
      ],
      "metadata": {
        "id": "WQRg0dBppPCh"
      },
      "execution_count": null,
      "outputs": []
    },
    {
      "cell_type": "code",
      "source": [
        "%%time\n",
        "rand_lr_search.fit(X_train,y_train)"
      ],
      "metadata": {
        "colab": {
          "base_uri": "https://localhost:8080/"
        },
        "id": "cCyUvRe-qDcR",
        "outputId": "b860d4ff-540b-4a9f-9218-2a109c02dbda"
      },
      "execution_count": null,
      "outputs": [
        {
          "output_type": "stream",
          "name": "stdout",
          "text": [
            "CPU times: user 157 ms, sys: 21.4 ms, total: 178 ms\n",
            "Wall time: 2.73 s\n"
          ]
        },
        {
          "output_type": "stream",
          "name": "stderr",
          "text": [
            "/usr/local/lib/python3.7/dist-packages/sklearn/model_selection/_validation.py:372: FitFailedWarning: \n",
            "21 fits failed out of a total of 60.\n",
            "The score on these train-test partitions for these parameters will be set to nan.\n",
            "If these failures are not expected, you can try to debug them by setting error_score='raise'.\n",
            "\n",
            "Below are more details about the failures:\n",
            "--------------------------------------------------------------------------------\n",
            "18 fits failed with the following error:\n",
            "Traceback (most recent call last):\n",
            "  File \"/usr/local/lib/python3.7/dist-packages/sklearn/model_selection/_validation.py\", line 680, in _fit_and_score\n",
            "    estimator.fit(X_train, y_train, **fit_params)\n",
            "  File \"/usr/local/lib/python3.7/dist-packages/sklearn/linear_model/_logistic.py\", line 1461, in fit\n",
            "    solver = _check_solver(self.solver, self.penalty, self.dual)\n",
            "  File \"/usr/local/lib/python3.7/dist-packages/sklearn/linear_model/_logistic.py\", line 459, in _check_solver\n",
            "    solver\n",
            "ValueError: Only 'saga' solver supports elasticnet penalty, got solver=liblinear.\n",
            "\n",
            "--------------------------------------------------------------------------------\n",
            "3 fits failed with the following error:\n",
            "Traceback (most recent call last):\n",
            "  File \"/usr/local/lib/python3.7/dist-packages/sklearn/model_selection/_validation.py\", line 680, in _fit_and_score\n",
            "    estimator.fit(X_train, y_train, **fit_params)\n",
            "  File \"/usr/local/lib/python3.7/dist-packages/sklearn/linear_model/_logistic.py\", line 1461, in fit\n",
            "    solver = _check_solver(self.solver, self.penalty, self.dual)\n",
            "  File \"/usr/local/lib/python3.7/dist-packages/sklearn/linear_model/_logistic.py\", line 464, in _check_solver\n",
            "    raise ValueError(\"penalty='none' is not supported for the liblinear solver\")\n",
            "ValueError: penalty='none' is not supported for the liblinear solver\n",
            "\n",
            "  warnings.warn(some_fits_failed_message, FitFailedWarning)\n",
            "/usr/local/lib/python3.7/dist-packages/sklearn/model_selection/_search.py:972: UserWarning: One or more of the test scores are non-finite: [0.98775674 0.98887632 0.98887468 0.98895664 0.98815835        nan\n",
            " 0.98783542 0.98775674        nan        nan 0.98775674 0.98911892\n",
            " 0.98903696        nan 0.98928121        nan 0.98775674 0.98895173\n",
            "        nan        nan]\n",
            "  category=UserWarning,\n"
          ]
        },
        {
          "output_type": "execute_result",
          "data": {
            "text/plain": [
              "RandomizedSearchCV(cv=3,\n",
              "                   estimator=LogisticRegression(max_iter=10000,\n",
              "                                                random_state=123,\n",
              "                                                solver='liblinear'),\n",
              "                   n_iter=20, n_jobs=-1,\n",
              "                   param_distributions={'C': <scipy.stats._distn_infrastructure.rv_frozen object at 0x7f642a2784d0>,\n",
              "                                        'penalty': ('l1', 'l2', 'elasticnet',\n",
              "                                                    'none')},\n",
              "                   random_state=10, scoring='roc_auc')"
            ]
          },
          "metadata": {},
          "execution_count": 79
        }
      ]
    },
    {
      "cell_type": "code",
      "source": [
        "rand_lr_search.best_params_"
      ],
      "metadata": {
        "colab": {
          "base_uri": "https://localhost:8080/"
        },
        "id": "Rr2pqObAqg4z",
        "outputId": "7562b172-6112-4bac-cff0-6c34430a21e1"
      },
      "execution_count": null,
      "outputs": [
        {
          "output_type": "execute_result",
          "data": {
            "text/plain": [
              "{'C': 6.0014217004760155, 'penalty': 'l2'}"
            ]
          },
          "metadata": {},
          "execution_count": 80
        }
      ]
    },
    {
      "cell_type": "code",
      "source": [
        "y_pred=rand_lr_search.predict(X_val)"
      ],
      "metadata": {
        "id": "BjoTaTMpquNj"
      },
      "execution_count": null,
      "outputs": []
    },
    {
      "cell_type": "code",
      "source": [
        "print(classification_report(y_val,y_pred))\n",
        "print('-'*30)\n",
        "print(roc_auc_score(y_val,y_pred))"
      ],
      "metadata": {
        "colab": {
          "base_uri": "https://localhost:8080/"
        },
        "id": "CiWrzjTeq8EX",
        "outputId": "8a14c575-17a1-458a-fcb7-ae2087a9e83a"
      },
      "execution_count": null,
      "outputs": [
        {
          "output_type": "stream",
          "name": "stdout",
          "text": [
            "              precision    recall  f1-score   support\n",
            "\n",
            "           0       0.99      0.95      0.97        78\n",
            "           1       0.91      0.98      0.94        41\n",
            "\n",
            "    accuracy                           0.96       119\n",
            "   macro avg       0.95      0.96      0.95       119\n",
            "weighted avg       0.96      0.96      0.96       119\n",
            "\n",
            "------------------------------\n",
            "0.9621638524077548\n"
          ]
        }
      ]
    },
    {
      "cell_type": "markdown",
      "source": [
        "### Ejercicio 02"
      ],
      "metadata": {
        "id": "YvwYjsNCMCBZ"
      }
    },
    {
      "cell_type": "markdown",
      "source": [
        "Ajusta un __random forest__ y tunea sus hiperparametros con `.GridSearchCV/RandomizedSearchCV`"
      ],
      "metadata": {
        "id": "t_8lGXpTMHk_"
      }
    },
    {
      "cell_type": "code",
      "source": [
        "# Respuesta\n"
      ],
      "metadata": {
        "id": "D0bJUdwOLoyd"
      },
      "execution_count": null,
      "outputs": []
    },
    {
      "cell_type": "markdown",
      "source": [
        "### Ejercicio 03"
      ],
      "metadata": {
        "id": "ShTfC0nkMLqt"
      }
    },
    {
      "cell_type": "markdown",
      "source": [
        "Ajusta un __xgbm__ y tunea sus hiperparametros con `.GridSearchCV/RandomizedSearchCV`"
      ],
      "metadata": {
        "id": "LjoDFg64MOBi"
      }
    },
    {
      "cell_type": "code",
      "source": [
        "# Respuesta\n"
      ],
      "metadata": {
        "id": "3xkoqHZxMLzr"
      },
      "execution_count": null,
      "outputs": []
    },
    {
      "cell_type": "markdown",
      "source": [
        "### Ejercicio 04"
      ],
      "metadata": {
        "id": "diZuFBJ2HXTd"
      }
    },
    {
      "cell_type": "markdown",
      "source": [
        "Ajusta un __lgbm__ y tunea sus hiperparametros con `.GridSearchCV/RandomizedSearchCV`"
      ],
      "metadata": {
        "id": "91_TpCmBIGG_"
      }
    },
    {
      "cell_type": "code",
      "source": [
        "# Respuesta\n",
        "import lightgbm as lgb"
      ],
      "metadata": {
        "id": "cWfxkHJxHa0d"
      },
      "execution_count": null,
      "outputs": []
    },
    {
      "cell_type": "code",
      "source": [
        "lgbm= lgb.LGBMClassifier()"
      ],
      "metadata": {
        "id": "iFLHwUoxrigm"
      },
      "execution_count": null,
      "outputs": []
    },
    {
      "cell_type": "code",
      "source": [
        "param_grid={'n_estimators':(40,70),\n",
        "            'learning_rate':stats.uniform(0.001,0.9),\n",
        "            'reg_lambda':stats.uniform(1,15),\n",
        "            'max_depth':stats.randint(40,50)\n",
        "\n",
        "}"
      ],
      "metadata": {
        "id": "ucAO28cvrtF3"
      },
      "execution_count": null,
      "outputs": []
    },
    {
      "cell_type": "code",
      "source": [
        "rand_lgbm=RandomizedSearchCV(lgbm,\n",
        "                             param_grid,\n",
        "                             scoring='roc_auc',\n",
        "                             cv=3,\n",
        "                             n_iter=20,\n",
        "                             random_state=10,\n",
        "                             n_jobs=-1,\n",
        "                             refit=True)"
      ],
      "metadata": {
        "id": "4ZAkZnYAsWMt"
      },
      "execution_count": null,
      "outputs": []
    },
    {
      "cell_type": "code",
      "source": [
        "rand_lgbm.best_params_"
      ],
      "metadata": {
        "colab": {
          "base_uri": "https://localhost:8080/"
        },
        "id": "sfDvHoUct1Ms",
        "outputId": "06c87e07-818e-4dad-f7ad-8404e99fc4ed"
      },
      "execution_count": null,
      "outputs": [
        {
          "output_type": "execute_result",
          "data": {
            "text/plain": [
              "{'learning_rate': 0.5517490069999098,\n",
              " 'max_depth': 48,\n",
              " 'n_estimators': 70,\n",
              " 'reg_lambda': 2.3568902390636106}"
            ]
          },
          "metadata": {},
          "execution_count": 94
        }
      ]
    },
    {
      "cell_type": "code",
      "source": [
        "%%time\n",
        "rand_lgbm.fit(X_train,y_train)"
      ],
      "metadata": {
        "colab": {
          "base_uri": "https://localhost:8080/"
        },
        "id": "ePr14fVttIoT",
        "outputId": "049cb2f0-fc78-45f7-e695-01eac2486559"
      },
      "execution_count": null,
      "outputs": [
        {
          "output_type": "stream",
          "name": "stdout",
          "text": [
            "CPU times: user 201 ms, sys: 18.8 ms, total: 220 ms\n",
            "Wall time: 1.73 s\n"
          ]
        },
        {
          "output_type": "execute_result",
          "data": {
            "text/plain": [
              "RandomizedSearchCV(cv=3, estimator=LGBMClassifier(), n_iter=20, n_jobs=-1,\n",
              "                   param_distributions={'learning_rate': <scipy.stats._distn_infrastructure.rv_frozen object at 0x7f64298fa990>,\n",
              "                                        'max_depth': <scipy.stats._distn_infrastructure.rv_frozen object at 0x7f64298fae50>,\n",
              "                                        'n_estimators': (40, 70),\n",
              "                                        'reg_lambda': <scipy.stats._distn_infrastructure.rv_frozen object at 0x7f64298fab50>},\n",
              "                   random_state=10, scoring='roc_auc')"
            ]
          },
          "metadata": {},
          "execution_count": 90
        }
      ]
    },
    {
      "cell_type": "code",
      "source": [
        "y_pred=rand_lgbm.predict(X_val)"
      ],
      "metadata": {
        "id": "eLC2INzNtWVJ"
      },
      "execution_count": null,
      "outputs": []
    },
    {
      "cell_type": "code",
      "source": [
        "print(classification_report(y_val,y_pred))\n",
        "print('-'*30)\n",
        "print(roc_auc_score(y_val,y_pred))"
      ],
      "metadata": {
        "colab": {
          "base_uri": "https://localhost:8080/"
        },
        "id": "bgm7eWGWtj0h",
        "outputId": "9236586b-1be5-4685-c368-b450717794a2"
      },
      "execution_count": null,
      "outputs": [
        {
          "output_type": "stream",
          "name": "stdout",
          "text": [
            "              precision    recall  f1-score   support\n",
            "\n",
            "           0       0.94      0.99      0.96        78\n",
            "           1       0.97      0.88      0.92        41\n",
            "\n",
            "    accuracy                           0.95       119\n",
            "   macro avg       0.96      0.93      0.94       119\n",
            "weighted avg       0.95      0.95      0.95       119\n",
            "\n",
            "------------------------------\n",
            "0.9326141338336461\n"
          ]
        }
      ]
    },
    {
      "cell_type": "markdown",
      "source": [
        "### Ejercicio 05"
      ],
      "metadata": {
        "id": "I4BiwMaTHcZc"
      }
    },
    {
      "cell_type": "markdown",
      "source": [
        "Usa test para evaluar todos los modelos, ¿Cual es el mejor modelo?"
      ],
      "metadata": {
        "id": "Vt3xpleTIICB"
      }
    },
    {
      "cell_type": "code",
      "source": [
        "# Respuesta\n",
        "from sklearn.metrics import roc_curve\n",
        "from sklearn.metrics import roc_auc_score, plot_roc_curve"
      ],
      "metadata": {
        "id": "_UvLIqvuHghP"
      },
      "execution_count": null,
      "outputs": []
    },
    {
      "cell_type": "code",
      "source": [
        "lr_c=plot_roc_curve(rand_lr_search,X_test,y_test)\n",
        "lgbm_c=plot_roc_curve(rand_lgbm,X_test,y_test)"
      ],
      "metadata": {
        "colab": {
          "base_uri": "https://localhost:8080/",
          "height": 630
        },
        "id": "zBMtZqVNuXmt",
        "outputId": "fac751a4-eb9e-4c10-f81f-6991d77c2329"
      },
      "execution_count": null,
      "outputs": [
        {
          "output_type": "stream",
          "name": "stderr",
          "text": [
            "/usr/local/lib/python3.7/dist-packages/sklearn/utils/deprecation.py:87: FutureWarning: Function plot_roc_curve is deprecated; Function :func:`plot_roc_curve` is deprecated in 1.0 and will be removed in 1.2. Use one of the class methods: :meth:`sklearn.metric.RocCurveDisplay.from_predictions` or :meth:`sklearn.metric.RocCurveDisplay.from_estimator`.\n",
            "  warnings.warn(msg, category=FutureWarning)\n",
            "/usr/local/lib/python3.7/dist-packages/sklearn/utils/deprecation.py:87: FutureWarning: Function plot_roc_curve is deprecated; Function :func:`plot_roc_curve` is deprecated in 1.0 and will be removed in 1.2. Use one of the class methods: :meth:`sklearn.metric.RocCurveDisplay.from_predictions` or :meth:`sklearn.metric.RocCurveDisplay.from_estimator`.\n",
            "  warnings.warn(msg, category=FutureWarning)\n"
          ]
        },
        {
          "output_type": "display_data",
          "data": {
            "text/plain": [
              "<Figure size 432x288 with 1 Axes>"
            ],
            "image/png": "[encoded data removed]"
          },
          "metadata": {
            "needs_background": "light"
          }
        },
        {
          "output_type": "display_data",
          "data": {
            "text/plain": [
              "<Figure size 432x288 with 1 Axes>"
            ],
            "image/png": "[encoded data removed]"
          },
          "metadata": {
            "needs_background": "light"
          }
        }
      ]
    },
    {
      "cell_type": "code",
      "source": [
        "ax = plt.gca()\n",
        "lr_c.plot(ax=ax,alpha=0.8,label='Logistic Regression')\n",
        "lgbm_c.plot(ax=ax,alpha=0.8,label='LGBM')"
      ],
      "metadata": {
        "colab": {
          "base_uri": "https://localhost:8080/",
          "height": 296
        },
        "id": "EXbsc51buy_u",
        "outputId": "7c73ea2b-5833-4105-9a21-dcf8ebe7b688"
      },
      "execution_count": null,
      "outputs": [
        {
          "output_type": "execute_result",
          "data": {
            "text/plain": [
              "<sklearn.metrics._plot.roc_curve.RocCurveDisplay at 0x7f64291716d0>"
            ]
          },
          "metadata": {},
          "execution_count": 97
        },
        {
          "output_type": "display_data",
          "data": {
            "text/plain": [
              "<Figure size 432x288 with 1 Axes>"
            ],
            "image/png": "[encoded data removed]"
          },
          "metadata": {
            "needs_background": "light"
          }
        }
      ]
    }
  ]
}